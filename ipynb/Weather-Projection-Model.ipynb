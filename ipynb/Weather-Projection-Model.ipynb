{
 "cells": [
  {
   "cell_type": "code",
   "execution_count": 1,
   "metadata": {},
   "outputs": [],
   "source": [
    "import random\n",
    "import numpy as np\n",
    "import pandas as pd\n",
    "import matplotlib.pyplot as plt\n",
    "from sklearn.neighbors import KernelDensity\n",
    "from sklearn.model_selection import GridSearchCV\n",
    "from sklearn.model_selection import LeaveOneOut"
   ]
  },
  {
   "cell_type": "code",
   "execution_count": 2,
   "metadata": {},
   "outputs": [],
   "source": [
    "PATH = \"/home/jovyan/persist/modsimpy/data/\""
   ]
  },
  {
   "cell_type": "code",
   "execution_count": 3,
   "metadata": {},
   "outputs": [],
   "source": [
    "temperature_file_name = \"temperature.csv\"\n",
    "pressure_file_name = \"pressure.csv\"\n",
    "humidity_file_name = \"humidity.csv\"\n",
    "weather_type = \"weather_description.csv\""
   ]
  },
  {
   "cell_type": "code",
   "execution_count": 6,
   "metadata": {},
   "outputs": [],
   "source": [
    "class TimeSequence(pd.Series):\n",
    "    def __init__(self, *args, **kwargs):\n",
    "        if args or kwargs:\n",
    "            super().__init__(*args, **kwargs)\n",
    "        else:\n",
    "            super().__init__([], dtype=np.float64)\n",
    "            \n",
    "    def set(self, **kwargs):\n",
    "        \"\"\"\n",
    "        Updating Series\n",
    "        \"\"\"\n",
    "        for name, value in kwargs.items():\n",
    "            self[name] = value\n",
    "        "
   ]
  },
  {
   "cell_type": "code",
   "execution_count": 7,
   "metadata": {},
   "outputs": [],
   "source": [
    "class WeatherTransition(pd.DataFrame):\n",
    "        def __init__(self, *args, **kwargs):\n",
    "            if args or kwargs:\n",
    "                super().__init__(*args, **kwargs)\n",
    "            else:\n",
    "                super().__init__([], dtype=np.float64)"
   ]
  },
  {
   "cell_type": "code",
   "execution_count": 6,
   "metadata": {},
   "outputs": [],
   "source": [
    "pd_temperature = pd.read_csv(PATH+pressure_file_name)"
   ]
  },
  {
   "cell_type": "code",
   "execution_count": 9,
   "metadata": {},
   "outputs": [
    {
     "data": {
      "text/html": [
       "<div>\n",
       "<style scoped>\n",
       "    .dataframe tbody tr th:only-of-type {\n",
       "        vertical-align: middle;\n",
       "    }\n",
       "\n",
       "    .dataframe tbody tr th {\n",
       "        vertical-align: top;\n",
       "    }\n",
       "\n",
       "    .dataframe thead th {\n",
       "        text-align: right;\n",
       "    }\n",
       "</style>\n",
       "<table border=\"1\" class=\"dataframe\">\n",
       "  <thead>\n",
       "    <tr style=\"text-align: right;\">\n",
       "      <th></th>\n",
       "      <th>datetime</th>\n",
       "      <th>Vancouver</th>\n",
       "      <th>Portland</th>\n",
       "      <th>San Francisco</th>\n",
       "      <th>Seattle</th>\n",
       "      <th>Los Angeles</th>\n",
       "      <th>San Diego</th>\n",
       "      <th>Las Vegas</th>\n",
       "      <th>Phoenix</th>\n",
       "      <th>Albuquerque</th>\n",
       "      <th>...</th>\n",
       "      <th>Philadelphia</th>\n",
       "      <th>New York</th>\n",
       "      <th>Montreal</th>\n",
       "      <th>Boston</th>\n",
       "      <th>Beersheba</th>\n",
       "      <th>Tel Aviv District</th>\n",
       "      <th>Eilat</th>\n",
       "      <th>Haifa</th>\n",
       "      <th>Nahariyya</th>\n",
       "      <th>Jerusalem</th>\n",
       "    </tr>\n",
       "  </thead>\n",
       "  <tbody>\n",
       "    <tr>\n",
       "      <th>0</th>\n",
       "      <td>2012-10-01 12:00:00</td>\n",
       "      <td>NaN</td>\n",
       "      <td>NaN</td>\n",
       "      <td>NaN</td>\n",
       "      <td>NaN</td>\n",
       "      <td>NaN</td>\n",
       "      <td>NaN</td>\n",
       "      <td>NaN</td>\n",
       "      <td>NaN</td>\n",
       "      <td>NaN</td>\n",
       "      <td>...</td>\n",
       "      <td>NaN</td>\n",
       "      <td>NaN</td>\n",
       "      <td>NaN</td>\n",
       "      <td>NaN</td>\n",
       "      <td>NaN</td>\n",
       "      <td>NaN</td>\n",
       "      <td>1011.0</td>\n",
       "      <td>NaN</td>\n",
       "      <td>NaN</td>\n",
       "      <td>NaN</td>\n",
       "    </tr>\n",
       "    <tr>\n",
       "      <th>1</th>\n",
       "      <td>2012-10-01 13:00:00</td>\n",
       "      <td>NaN</td>\n",
       "      <td>1024.0</td>\n",
       "      <td>1009.0</td>\n",
       "      <td>1027.0</td>\n",
       "      <td>1013.0</td>\n",
       "      <td>1013.0</td>\n",
       "      <td>1018.0</td>\n",
       "      <td>1013.0</td>\n",
       "      <td>1024.0</td>\n",
       "      <td>...</td>\n",
       "      <td>1014.0</td>\n",
       "      <td>1012.0</td>\n",
       "      <td>1001.0</td>\n",
       "      <td>1014.0</td>\n",
       "      <td>984.0</td>\n",
       "      <td>1012.0</td>\n",
       "      <td>1010.0</td>\n",
       "      <td>1013.0</td>\n",
       "      <td>1013.0</td>\n",
       "      <td>990.0</td>\n",
       "    </tr>\n",
       "    <tr>\n",
       "      <th>2</th>\n",
       "      <td>2012-10-01 14:00:00</td>\n",
       "      <td>NaN</td>\n",
       "      <td>1024.0</td>\n",
       "      <td>1009.0</td>\n",
       "      <td>1027.0</td>\n",
       "      <td>1013.0</td>\n",
       "      <td>1013.0</td>\n",
       "      <td>1018.0</td>\n",
       "      <td>1013.0</td>\n",
       "      <td>1024.0</td>\n",
       "      <td>...</td>\n",
       "      <td>1014.0</td>\n",
       "      <td>1012.0</td>\n",
       "      <td>986.0</td>\n",
       "      <td>1014.0</td>\n",
       "      <td>984.0</td>\n",
       "      <td>1012.0</td>\n",
       "      <td>1010.0</td>\n",
       "      <td>1013.0</td>\n",
       "      <td>1013.0</td>\n",
       "      <td>990.0</td>\n",
       "    </tr>\n",
       "    <tr>\n",
       "      <th>3</th>\n",
       "      <td>2012-10-01 15:00:00</td>\n",
       "      <td>NaN</td>\n",
       "      <td>1024.0</td>\n",
       "      <td>1009.0</td>\n",
       "      <td>1028.0</td>\n",
       "      <td>1013.0</td>\n",
       "      <td>1013.0</td>\n",
       "      <td>1018.0</td>\n",
       "      <td>1013.0</td>\n",
       "      <td>1024.0</td>\n",
       "      <td>...</td>\n",
       "      <td>1014.0</td>\n",
       "      <td>1012.0</td>\n",
       "      <td>945.0</td>\n",
       "      <td>1014.0</td>\n",
       "      <td>984.0</td>\n",
       "      <td>1012.0</td>\n",
       "      <td>1010.0</td>\n",
       "      <td>1013.0</td>\n",
       "      <td>1013.0</td>\n",
       "      <td>990.0</td>\n",
       "    </tr>\n",
       "    <tr>\n",
       "      <th>4</th>\n",
       "      <td>2012-10-01 16:00:00</td>\n",
       "      <td>NaN</td>\n",
       "      <td>1024.0</td>\n",
       "      <td>1009.0</td>\n",
       "      <td>1028.0</td>\n",
       "      <td>1013.0</td>\n",
       "      <td>1013.0</td>\n",
       "      <td>1018.0</td>\n",
       "      <td>1013.0</td>\n",
       "      <td>1024.0</td>\n",
       "      <td>...</td>\n",
       "      <td>1014.0</td>\n",
       "      <td>1012.0</td>\n",
       "      <td>904.0</td>\n",
       "      <td>1014.0</td>\n",
       "      <td>984.0</td>\n",
       "      <td>1012.0</td>\n",
       "      <td>1010.0</td>\n",
       "      <td>1013.0</td>\n",
       "      <td>1013.0</td>\n",
       "      <td>990.0</td>\n",
       "    </tr>\n",
       "  </tbody>\n",
       "</table>\n",
       "<p>5 rows × 37 columns</p>\n",
       "</div>"
      ],
      "text/plain": [
       "              datetime  Vancouver  Portland  San Francisco  Seattle  \\\n",
       "0  2012-10-01 12:00:00        NaN       NaN            NaN      NaN   \n",
       "1  2012-10-01 13:00:00        NaN    1024.0         1009.0   1027.0   \n",
       "2  2012-10-01 14:00:00        NaN    1024.0         1009.0   1027.0   \n",
       "3  2012-10-01 15:00:00        NaN    1024.0         1009.0   1028.0   \n",
       "4  2012-10-01 16:00:00        NaN    1024.0         1009.0   1028.0   \n",
       "\n",
       "   Los Angeles  San Diego  Las Vegas  Phoenix  Albuquerque    ...      \\\n",
       "0          NaN        NaN        NaN      NaN          NaN    ...       \n",
       "1       1013.0     1013.0     1018.0   1013.0       1024.0    ...       \n",
       "2       1013.0     1013.0     1018.0   1013.0       1024.0    ...       \n",
       "3       1013.0     1013.0     1018.0   1013.0       1024.0    ...       \n",
       "4       1013.0     1013.0     1018.0   1013.0       1024.0    ...       \n",
       "\n",
       "   Philadelphia  New York  Montreal  Boston  Beersheba  Tel Aviv District  \\\n",
       "0           NaN       NaN       NaN     NaN        NaN                NaN   \n",
       "1        1014.0    1012.0    1001.0  1014.0      984.0             1012.0   \n",
       "2        1014.0    1012.0     986.0  1014.0      984.0             1012.0   \n",
       "3        1014.0    1012.0     945.0  1014.0      984.0             1012.0   \n",
       "4        1014.0    1012.0     904.0  1014.0      984.0             1012.0   \n",
       "\n",
       "    Eilat   Haifa  Nahariyya  Jerusalem  \n",
       "0  1011.0     NaN        NaN        NaN  \n",
       "1  1010.0  1013.0     1013.0      990.0  \n",
       "2  1010.0  1013.0     1013.0      990.0  \n",
       "3  1010.0  1013.0     1013.0      990.0  \n",
       "4  1010.0  1013.0     1013.0      990.0  \n",
       "\n",
       "[5 rows x 37 columns]"
      ]
     },
     "execution_count": 9,
     "metadata": {},
     "output_type": "execute_result"
    }
   ],
   "source": [
    "pd_temperature.head()"
   ]
  },
  {
   "cell_type": "code",
   "execution_count": 21,
   "metadata": {},
   "outputs": [],
   "source": [
    "city_name = list(pd_temperature.columns)\n",
    "\n",
    "city_name.remove('datetime')"
   ]
  },
  {
   "cell_type": "code",
   "execution_count": 23,
   "metadata": {},
   "outputs": [],
   "source": [
    "pd_temperature[\"monthday\"] = pd_temperature[\"datetime\"].apply(lambda x: x[5:10])"
   ]
  },
  {
   "cell_type": "code",
   "execution_count": 24,
   "metadata": {},
   "outputs": [
    {
     "name": "stdout",
     "output_type": "stream",
     "text": [
      "City Picked Vancouver\n",
      "City Picked Portland\n",
      "City Picked San Francisco\n",
      "City Picked Seattle\n",
      "City Picked Los Angeles\n",
      "City Picked San Diego\n",
      "City Picked Las Vegas\n",
      "City Picked Phoenix\n",
      "City Picked Albuquerque\n",
      "City Picked Denver\n",
      "City Picked San Antonio\n",
      "City Picked Dallas\n",
      "City Picked Houston\n",
      "City Picked Kansas City\n",
      "City Picked Minneapolis\n",
      "City Picked Saint Louis\n",
      "City Picked Chicago\n",
      "City Picked Nashville\n",
      "City Picked Indianapolis\n",
      "City Picked Atlanta\n",
      "City Picked Detroit\n",
      "City Picked Jacksonville\n",
      "City Picked Charlotte\n",
      "City Picked Miami\n",
      "City Picked Pittsburgh\n",
      "City Picked Toronto\n",
      "City Picked Philadelphia\n",
      "City Picked New York\n",
      "City Picked Montreal\n",
      "City Picked Boston\n",
      "City Picked Beersheba\n",
      "City Picked Tel Aviv District\n",
      "City Picked Eilat\n",
      "City Picked Haifa\n",
      "City Picked Nahariyya\n",
      "City Picked Jerusalem\n"
     ]
    }
   ],
   "source": [
    "city_models = TimeSequence()\n",
    "for city in city_name:\n",
    "    print(\"City Picked \"+ city)\n",
    "    pd_city_daily_temperature = pd_temperature.groupby(\"monthday\")[city].apply(list)\n",
    "    ts = TimeSequence()\n",
    "    for month_day in pd_city_daily_temperature.index:\n",
    "        #print(\"Month Day \"+ month_day)\n",
    "        kde = KernelDensity(bandwidth=1.0, kernel='gaussian')\n",
    "        x = np.array(pd_city_daily_temperature[month_day])\n",
    "        x = x[~np.isnan(x)].astype(int)\n",
    "        kde.fit(x[:,None])\n",
    "        ts[month_day] = kde\n",
    "    city_models[city] = ts"
   ]
  },
  {
   "cell_type": "code",
   "execution_count": 25,
   "metadata": {},
   "outputs": [
    {
     "data": {
      "text/plain": [
       "array([[1008.77332604]])"
      ]
     },
     "execution_count": 25,
     "metadata": {},
     "output_type": "execute_result"
    }
   ],
   "source": [
    "city_models[\"Jerusalem\"][\"01-18\"].sample()"
   ]
  },
  {
   "cell_type": "code",
   "execution_count": 325,
   "metadata": {},
   "outputs": [
    {
     "data": {
      "text/plain": [
       "KernelDensity(algorithm='auto', atol=0, bandwidth=1.0, breadth_first=True,\n",
       "       kernel='gaussian', leaf_size=40, metric='euclidean',\n",
       "       metric_params=None, rtol=0)"
      ]
     },
     "execution_count": 325,
     "metadata": {},
     "output_type": "execute_result"
    }
   ],
   "source": [
    "#random.choice(city_models[\"Jerusalem\"])"
   ]
  },
  {
   "cell_type": "code",
   "execution_count": 26,
   "metadata": {},
   "outputs": [
    {
     "data": {
      "text/plain": [
       "array([[988.34622564]])"
      ]
     },
     "execution_count": 26,
     "metadata": {},
     "output_type": "execute_result"
    }
   ],
   "source": [
    "city_models[\"Jerusalem\"][\"07-18\"].sample()"
   ]
  },
  {
   "cell_type": "code",
   "execution_count": 88,
   "metadata": {},
   "outputs": [],
   "source": [
    "[ i for i in city_models[\"Jerusalem\"].keys() ]\n",
    "None"
   ]
  },
  {
   "cell_type": "markdown",
   "metadata": {},
   "source": [
    "## Weather Type State Machine"
   ]
  },
  {
   "cell_type": "code",
   "execution_count": 92,
   "metadata": {},
   "outputs": [],
   "source": [
    "weather_mapping = {\n",
    "    \n",
    "    'mist': 'Foggy',\n",
    "    'broken clouds': 'Cloudy',\n",
    "    'sky is clear': 'Clearsky',\n",
    "    'light rain': 'Rainy',\n",
    "    'few clouds': 'Cloudy',\n",
    "    'fog': 'Foggy',\n",
    "    'overcast clouds': 'Cloudy',\n",
    "    'light intensity shower rain': 'Rainy',\n",
    "    'moderate rain': 'Rainy',\n",
    "    'light intensity drizzle': 'Rainy',\n",
    "    'scattered clouds': 'Cloudy',\n",
    "    'proximity shower rain': 'Rainy',\n",
    "    'heavy intensity rain': 'Rainy',\n",
    "    'heavy snow': 'Snow',\n",
    "    'shower rain': 'Rainy',\n",
    "    'snow': 'Snow',\n",
    "    'heavy shower snow': 'Snowstorm',\n",
    "    'light intensity drizzle rain': 'Rainy',\n",
    "    'light snow': 'Snow',\n",
    "    'very heavy rain': 'Rainy',\n",
    "    'smoke': 'Smog',\n",
    "    'thunderstorm with heavy rain': 'Thunderstorm',\n",
    "    'light shower snow': 'Snow',\n",
    "    'thunderstorm': 'Thunderstorm',\n",
    "    'thunderstorm with light rain': 'Thunderstorm',\n",
    "    'haze': 'Smog',\n",
    "    'dust': 'Smog',\n",
    "    'volcanic ash': 'Smog',\n",
    "    'heavy intensity shower rain': 'Rainy',\n",
    "    'thunderstorm with rain': 'Thunderstorm',\n",
    "    'sleet': 'Snow',\n",
    "    'light rain and snow': 'Snow',\n",
    "    'drizzle': 'Rainy',\n",
    "    'shower snow': 'Snowstorm',\n",
    "    'light shower sleet': 'Snow',\n",
    "    'proximity thunderstorm': 'Thunderstorm',\n",
    "    'ragged thunderstorm': 'Thunderstorm',\n",
    "    'freezing rain': 'Snow',\n",
    "    'heavy intensity drizzle': 'Rainy',\n",
    "    'proximity thunderstorm with rain': 'Thunderstorm',\n",
    "    'proximity thunderstorm with drizzle': 'Thunderstorm',\n",
    "    'thunderstorm with drizzle': 'Thunderstorm',\n",
    "    'thunderstorm with light drizzle': 'Thunderstorm',\n",
    "    'thunderstorm with heavy drizzle': 'Thunderstorm',\n",
    "    'heavy thunderstorm': 'Thunderstorm',\n",
    "    'squalls': 'Windy',\n",
    "    'proximity sand/dust whirls': 'Sandstorm',\n",
    "    'proximity moderate rain': 'Rainy',\n",
    "    'sand': 'Sandstorm',\n",
    "    'sand/dust whirls': 'Sandstorm',\n",
    "    'tornado': 'Tornado',\n",
    "    'shower drizzle': 'Rainy',\n",
    "    'rain and snow': 'Snow',\n",
    "    'ragged shower rain': 'Rain'\n",
    "}\n",
    "\n",
    "#pd_weather[\"Vancouver\"] = pd_weather[\"Vancouver\"].apply(lambda x: weather_mapping[x])\n",
    "\n",
    "#citylist = list(pd_weather.columns)\n",
    "\n",
    "#citylist.remove('datetime')"
   ]
  },
  {
   "cell_type": "code",
   "execution_count": 4,
   "metadata": {},
   "outputs": [],
   "source": [
    "pd_weather = pd.read_csv(PATH+weather_type)\n",
    "pd_weather = pd_weather.dropna()"
   ]
  },
  {
   "cell_type": "code",
   "execution_count": 5,
   "metadata": {},
   "outputs": [
    {
     "data": {
      "text/html": [
       "<div>\n",
       "<style scoped>\n",
       "    .dataframe tbody tr th:only-of-type {\n",
       "        vertical-align: middle;\n",
       "    }\n",
       "\n",
       "    .dataframe tbody tr th {\n",
       "        vertical-align: top;\n",
       "    }\n",
       "\n",
       "    .dataframe thead th {\n",
       "        text-align: right;\n",
       "    }\n",
       "</style>\n",
       "<table border=\"1\" class=\"dataframe\">\n",
       "  <thead>\n",
       "    <tr style=\"text-align: right;\">\n",
       "      <th></th>\n",
       "      <th>datetime</th>\n",
       "      <th>Vancouver</th>\n",
       "      <th>Portland</th>\n",
       "      <th>San Francisco</th>\n",
       "      <th>Seattle</th>\n",
       "      <th>Los Angeles</th>\n",
       "      <th>San Diego</th>\n",
       "      <th>Las Vegas</th>\n",
       "      <th>Phoenix</th>\n",
       "      <th>Albuquerque</th>\n",
       "      <th>...</th>\n",
       "      <th>Philadelphia</th>\n",
       "      <th>New York</th>\n",
       "      <th>Montreal</th>\n",
       "      <th>Boston</th>\n",
       "      <th>Beersheba</th>\n",
       "      <th>Tel Aviv District</th>\n",
       "      <th>Eilat</th>\n",
       "      <th>Haifa</th>\n",
       "      <th>Nahariyya</th>\n",
       "      <th>Jerusalem</th>\n",
       "    </tr>\n",
       "  </thead>\n",
       "  <tbody>\n",
       "    <tr>\n",
       "      <th>1</th>\n",
       "      <td>2012-10-01 13:00:00</td>\n",
       "      <td>mist</td>\n",
       "      <td>scattered clouds</td>\n",
       "      <td>light rain</td>\n",
       "      <td>sky is clear</td>\n",
       "      <td>mist</td>\n",
       "      <td>sky is clear</td>\n",
       "      <td>sky is clear</td>\n",
       "      <td>sky is clear</td>\n",
       "      <td>sky is clear</td>\n",
       "      <td>...</td>\n",
       "      <td>broken clouds</td>\n",
       "      <td>few clouds</td>\n",
       "      <td>overcast clouds</td>\n",
       "      <td>sky is clear</td>\n",
       "      <td>sky is clear</td>\n",
       "      <td>sky is clear</td>\n",
       "      <td>haze</td>\n",
       "      <td>sky is clear</td>\n",
       "      <td>sky is clear</td>\n",
       "      <td>sky is clear</td>\n",
       "    </tr>\n",
       "    <tr>\n",
       "      <th>2</th>\n",
       "      <td>2012-10-01 14:00:00</td>\n",
       "      <td>broken clouds</td>\n",
       "      <td>scattered clouds</td>\n",
       "      <td>sky is clear</td>\n",
       "      <td>sky is clear</td>\n",
       "      <td>sky is clear</td>\n",
       "      <td>sky is clear</td>\n",
       "      <td>sky is clear</td>\n",
       "      <td>sky is clear</td>\n",
       "      <td>sky is clear</td>\n",
       "      <td>...</td>\n",
       "      <td>broken clouds</td>\n",
       "      <td>few clouds</td>\n",
       "      <td>sky is clear</td>\n",
       "      <td>few clouds</td>\n",
       "      <td>sky is clear</td>\n",
       "      <td>sky is clear</td>\n",
       "      <td>broken clouds</td>\n",
       "      <td>overcast clouds</td>\n",
       "      <td>sky is clear</td>\n",
       "      <td>overcast clouds</td>\n",
       "    </tr>\n",
       "    <tr>\n",
       "      <th>3</th>\n",
       "      <td>2012-10-01 15:00:00</td>\n",
       "      <td>broken clouds</td>\n",
       "      <td>scattered clouds</td>\n",
       "      <td>sky is clear</td>\n",
       "      <td>sky is clear</td>\n",
       "      <td>sky is clear</td>\n",
       "      <td>sky is clear</td>\n",
       "      <td>sky is clear</td>\n",
       "      <td>sky is clear</td>\n",
       "      <td>sky is clear</td>\n",
       "      <td>...</td>\n",
       "      <td>broken clouds</td>\n",
       "      <td>few clouds</td>\n",
       "      <td>sky is clear</td>\n",
       "      <td>few clouds</td>\n",
       "      <td>overcast clouds</td>\n",
       "      <td>sky is clear</td>\n",
       "      <td>broken clouds</td>\n",
       "      <td>overcast clouds</td>\n",
       "      <td>overcast clouds</td>\n",
       "      <td>overcast clouds</td>\n",
       "    </tr>\n",
       "    <tr>\n",
       "      <th>4</th>\n",
       "      <td>2012-10-01 16:00:00</td>\n",
       "      <td>broken clouds</td>\n",
       "      <td>scattered clouds</td>\n",
       "      <td>sky is clear</td>\n",
       "      <td>sky is clear</td>\n",
       "      <td>sky is clear</td>\n",
       "      <td>sky is clear</td>\n",
       "      <td>sky is clear</td>\n",
       "      <td>sky is clear</td>\n",
       "      <td>sky is clear</td>\n",
       "      <td>...</td>\n",
       "      <td>broken clouds</td>\n",
       "      <td>few clouds</td>\n",
       "      <td>sky is clear</td>\n",
       "      <td>few clouds</td>\n",
       "      <td>overcast clouds</td>\n",
       "      <td>sky is clear</td>\n",
       "      <td>broken clouds</td>\n",
       "      <td>overcast clouds</td>\n",
       "      <td>overcast clouds</td>\n",
       "      <td>overcast clouds</td>\n",
       "    </tr>\n",
       "    <tr>\n",
       "      <th>5</th>\n",
       "      <td>2012-10-01 17:00:00</td>\n",
       "      <td>broken clouds</td>\n",
       "      <td>scattered clouds</td>\n",
       "      <td>sky is clear</td>\n",
       "      <td>sky is clear</td>\n",
       "      <td>sky is clear</td>\n",
       "      <td>sky is clear</td>\n",
       "      <td>sky is clear</td>\n",
       "      <td>sky is clear</td>\n",
       "      <td>sky is clear</td>\n",
       "      <td>...</td>\n",
       "      <td>broken clouds</td>\n",
       "      <td>few clouds</td>\n",
       "      <td>sky is clear</td>\n",
       "      <td>few clouds</td>\n",
       "      <td>overcast clouds</td>\n",
       "      <td>sky is clear</td>\n",
       "      <td>broken clouds</td>\n",
       "      <td>overcast clouds</td>\n",
       "      <td>overcast clouds</td>\n",
       "      <td>overcast clouds</td>\n",
       "    </tr>\n",
       "  </tbody>\n",
       "</table>\n",
       "<p>5 rows × 37 columns</p>\n",
       "</div>"
      ],
      "text/plain": [
       "              datetime      Vancouver          Portland San Francisco  \\\n",
       "1  2012-10-01 13:00:00           mist  scattered clouds    light rain   \n",
       "2  2012-10-01 14:00:00  broken clouds  scattered clouds  sky is clear   \n",
       "3  2012-10-01 15:00:00  broken clouds  scattered clouds  sky is clear   \n",
       "4  2012-10-01 16:00:00  broken clouds  scattered clouds  sky is clear   \n",
       "5  2012-10-01 17:00:00  broken clouds  scattered clouds  sky is clear   \n",
       "\n",
       "        Seattle   Los Angeles     San Diego     Las Vegas       Phoenix  \\\n",
       "1  sky is clear          mist  sky is clear  sky is clear  sky is clear   \n",
       "2  sky is clear  sky is clear  sky is clear  sky is clear  sky is clear   \n",
       "3  sky is clear  sky is clear  sky is clear  sky is clear  sky is clear   \n",
       "4  sky is clear  sky is clear  sky is clear  sky is clear  sky is clear   \n",
       "5  sky is clear  sky is clear  sky is clear  sky is clear  sky is clear   \n",
       "\n",
       "    Albuquerque       ...          Philadelphia    New York         Montreal  \\\n",
       "1  sky is clear       ...         broken clouds  few clouds  overcast clouds   \n",
       "2  sky is clear       ...         broken clouds  few clouds     sky is clear   \n",
       "3  sky is clear       ...         broken clouds  few clouds     sky is clear   \n",
       "4  sky is clear       ...         broken clouds  few clouds     sky is clear   \n",
       "5  sky is clear       ...         broken clouds  few clouds     sky is clear   \n",
       "\n",
       "         Boston        Beersheba Tel Aviv District          Eilat  \\\n",
       "1  sky is clear     sky is clear      sky is clear           haze   \n",
       "2    few clouds     sky is clear      sky is clear  broken clouds   \n",
       "3    few clouds  overcast clouds      sky is clear  broken clouds   \n",
       "4    few clouds  overcast clouds      sky is clear  broken clouds   \n",
       "5    few clouds  overcast clouds      sky is clear  broken clouds   \n",
       "\n",
       "             Haifa        Nahariyya        Jerusalem  \n",
       "1     sky is clear     sky is clear     sky is clear  \n",
       "2  overcast clouds     sky is clear  overcast clouds  \n",
       "3  overcast clouds  overcast clouds  overcast clouds  \n",
       "4  overcast clouds  overcast clouds  overcast clouds  \n",
       "5  overcast clouds  overcast clouds  overcast clouds  \n",
       "\n",
       "[5 rows x 37 columns]"
      ]
     },
     "execution_count": 5,
     "metadata": {},
     "output_type": "execute_result"
    }
   ],
   "source": [
    "pd_weather.head()"
   ]
  },
  {
   "cell_type": "code",
   "execution_count": 98,
   "metadata": {},
   "outputs": [],
   "source": [
    "citylist = list(pd_weather.columns)\n",
    "\n",
    "citylist.remove('datetime')"
   ]
  },
  {
   "cell_type": "code",
   "execution_count": 99,
   "metadata": {},
   "outputs": [],
   "source": [
    "for cityname in citylist:\n",
    "    pd_weather[cityname] = pd_weather[cityname].apply(lambda x: weather_mapping[x])"
   ]
  },
  {
   "cell_type": "code",
   "execution_count": 184,
   "metadata": {},
   "outputs": [
    {
     "data": {
      "text/html": [
       "<div>\n",
       "<style scoped>\n",
       "    .dataframe tbody tr th:only-of-type {\n",
       "        vertical-align: middle;\n",
       "    }\n",
       "\n",
       "    .dataframe tbody tr th {\n",
       "        vertical-align: top;\n",
       "    }\n",
       "\n",
       "    .dataframe thead th {\n",
       "        text-align: right;\n",
       "    }\n",
       "</style>\n",
       "<table border=\"1\" class=\"dataframe\">\n",
       "  <thead>\n",
       "    <tr style=\"text-align: right;\">\n",
       "      <th></th>\n",
       "      <th>datetime</th>\n",
       "      <th>Vancouver</th>\n",
       "      <th>Portland</th>\n",
       "      <th>San Francisco</th>\n",
       "      <th>Seattle</th>\n",
       "      <th>Los Angeles</th>\n",
       "      <th>San Diego</th>\n",
       "      <th>Las Vegas</th>\n",
       "      <th>Phoenix</th>\n",
       "      <th>Albuquerque</th>\n",
       "      <th>...</th>\n",
       "      <th>Philadelphia</th>\n",
       "      <th>New York</th>\n",
       "      <th>Montreal</th>\n",
       "      <th>Boston</th>\n",
       "      <th>Beersheba</th>\n",
       "      <th>Tel Aviv District</th>\n",
       "      <th>Eilat</th>\n",
       "      <th>Haifa</th>\n",
       "      <th>Nahariyya</th>\n",
       "      <th>Jerusalem</th>\n",
       "    </tr>\n",
       "  </thead>\n",
       "  <tbody>\n",
       "    <tr>\n",
       "      <th>1</th>\n",
       "      <td>2012-10-01 13:00:00</td>\n",
       "      <td>Foggy</td>\n",
       "      <td>Cloudy</td>\n",
       "      <td>Rainy</td>\n",
       "      <td>Clearsky</td>\n",
       "      <td>Foggy</td>\n",
       "      <td>Clearsky</td>\n",
       "      <td>Clearsky</td>\n",
       "      <td>Clearsky</td>\n",
       "      <td>Clearsky</td>\n",
       "      <td>...</td>\n",
       "      <td>Cloudy</td>\n",
       "      <td>Cloudy</td>\n",
       "      <td>Cloudy</td>\n",
       "      <td>Clearsky</td>\n",
       "      <td>Clearsky</td>\n",
       "      <td>Clearsky</td>\n",
       "      <td>Smog</td>\n",
       "      <td>Clearsky</td>\n",
       "      <td>Clearsky</td>\n",
       "      <td>Clearsky</td>\n",
       "    </tr>\n",
       "    <tr>\n",
       "      <th>2</th>\n",
       "      <td>2012-10-01 14:00:00</td>\n",
       "      <td>Cloudy</td>\n",
       "      <td>Cloudy</td>\n",
       "      <td>Clearsky</td>\n",
       "      <td>Clearsky</td>\n",
       "      <td>Clearsky</td>\n",
       "      <td>Clearsky</td>\n",
       "      <td>Clearsky</td>\n",
       "      <td>Clearsky</td>\n",
       "      <td>Clearsky</td>\n",
       "      <td>...</td>\n",
       "      <td>Cloudy</td>\n",
       "      <td>Cloudy</td>\n",
       "      <td>Clearsky</td>\n",
       "      <td>Cloudy</td>\n",
       "      <td>Clearsky</td>\n",
       "      <td>Clearsky</td>\n",
       "      <td>Cloudy</td>\n",
       "      <td>Cloudy</td>\n",
       "      <td>Clearsky</td>\n",
       "      <td>Cloudy</td>\n",
       "    </tr>\n",
       "    <tr>\n",
       "      <th>3</th>\n",
       "      <td>2012-10-01 15:00:00</td>\n",
       "      <td>Cloudy</td>\n",
       "      <td>Cloudy</td>\n",
       "      <td>Clearsky</td>\n",
       "      <td>Clearsky</td>\n",
       "      <td>Clearsky</td>\n",
       "      <td>Clearsky</td>\n",
       "      <td>Clearsky</td>\n",
       "      <td>Clearsky</td>\n",
       "      <td>Clearsky</td>\n",
       "      <td>...</td>\n",
       "      <td>Cloudy</td>\n",
       "      <td>Cloudy</td>\n",
       "      <td>Clearsky</td>\n",
       "      <td>Cloudy</td>\n",
       "      <td>Cloudy</td>\n",
       "      <td>Clearsky</td>\n",
       "      <td>Cloudy</td>\n",
       "      <td>Cloudy</td>\n",
       "      <td>Cloudy</td>\n",
       "      <td>Cloudy</td>\n",
       "    </tr>\n",
       "    <tr>\n",
       "      <th>4</th>\n",
       "      <td>2012-10-01 16:00:00</td>\n",
       "      <td>Cloudy</td>\n",
       "      <td>Cloudy</td>\n",
       "      <td>Clearsky</td>\n",
       "      <td>Clearsky</td>\n",
       "      <td>Clearsky</td>\n",
       "      <td>Clearsky</td>\n",
       "      <td>Clearsky</td>\n",
       "      <td>Clearsky</td>\n",
       "      <td>Clearsky</td>\n",
       "      <td>...</td>\n",
       "      <td>Cloudy</td>\n",
       "      <td>Cloudy</td>\n",
       "      <td>Clearsky</td>\n",
       "      <td>Cloudy</td>\n",
       "      <td>Cloudy</td>\n",
       "      <td>Clearsky</td>\n",
       "      <td>Cloudy</td>\n",
       "      <td>Cloudy</td>\n",
       "      <td>Cloudy</td>\n",
       "      <td>Cloudy</td>\n",
       "    </tr>\n",
       "    <tr>\n",
       "      <th>5</th>\n",
       "      <td>2012-10-01 17:00:00</td>\n",
       "      <td>Cloudy</td>\n",
       "      <td>Cloudy</td>\n",
       "      <td>Clearsky</td>\n",
       "      <td>Clearsky</td>\n",
       "      <td>Clearsky</td>\n",
       "      <td>Clearsky</td>\n",
       "      <td>Clearsky</td>\n",
       "      <td>Clearsky</td>\n",
       "      <td>Clearsky</td>\n",
       "      <td>...</td>\n",
       "      <td>Cloudy</td>\n",
       "      <td>Cloudy</td>\n",
       "      <td>Clearsky</td>\n",
       "      <td>Cloudy</td>\n",
       "      <td>Cloudy</td>\n",
       "      <td>Clearsky</td>\n",
       "      <td>Cloudy</td>\n",
       "      <td>Cloudy</td>\n",
       "      <td>Cloudy</td>\n",
       "      <td>Cloudy</td>\n",
       "    </tr>\n",
       "  </tbody>\n",
       "</table>\n",
       "<p>5 rows × 37 columns</p>\n",
       "</div>"
      ],
      "text/plain": [
       "              datetime Vancouver Portland San Francisco   Seattle Los Angeles  \\\n",
       "1  2012-10-01 13:00:00     Foggy   Cloudy         Rainy  Clearsky       Foggy   \n",
       "2  2012-10-01 14:00:00    Cloudy   Cloudy      Clearsky  Clearsky    Clearsky   \n",
       "3  2012-10-01 15:00:00    Cloudy   Cloudy      Clearsky  Clearsky    Clearsky   \n",
       "4  2012-10-01 16:00:00    Cloudy   Cloudy      Clearsky  Clearsky    Clearsky   \n",
       "5  2012-10-01 17:00:00    Cloudy   Cloudy      Clearsky  Clearsky    Clearsky   \n",
       "\n",
       "  San Diego Las Vegas   Phoenix Albuquerque    ...    Philadelphia New York  \\\n",
       "1  Clearsky  Clearsky  Clearsky    Clearsky    ...          Cloudy   Cloudy   \n",
       "2  Clearsky  Clearsky  Clearsky    Clearsky    ...          Cloudy   Cloudy   \n",
       "3  Clearsky  Clearsky  Clearsky    Clearsky    ...          Cloudy   Cloudy   \n",
       "4  Clearsky  Clearsky  Clearsky    Clearsky    ...          Cloudy   Cloudy   \n",
       "5  Clearsky  Clearsky  Clearsky    Clearsky    ...          Cloudy   Cloudy   \n",
       "\n",
       "   Montreal    Boston Beersheba Tel Aviv District   Eilat     Haifa Nahariyya  \\\n",
       "1    Cloudy  Clearsky  Clearsky          Clearsky    Smog  Clearsky  Clearsky   \n",
       "2  Clearsky    Cloudy  Clearsky          Clearsky  Cloudy    Cloudy  Clearsky   \n",
       "3  Clearsky    Cloudy    Cloudy          Clearsky  Cloudy    Cloudy    Cloudy   \n",
       "4  Clearsky    Cloudy    Cloudy          Clearsky  Cloudy    Cloudy    Cloudy   \n",
       "5  Clearsky    Cloudy    Cloudy          Clearsky  Cloudy    Cloudy    Cloudy   \n",
       "\n",
       "  Jerusalem  \n",
       "1  Clearsky  \n",
       "2    Cloudy  \n",
       "3    Cloudy  \n",
       "4    Cloudy  \n",
       "5    Cloudy  \n",
       "\n",
       "[5 rows x 37 columns]"
      ]
     },
     "execution_count": 184,
     "metadata": {},
     "output_type": "execute_result"
    }
   ],
   "source": [
    "pd_weather.head()"
   ]
  },
  {
   "cell_type": "code",
   "execution_count": 174,
   "metadata": {},
   "outputs": [
    {
     "data": {
      "text/plain": [
       "{'Tornado': 0,\n",
       " 'Foggy': 1,\n",
       " 'Cloudy': 2,\n",
       " 'Snowstorm': 3,\n",
       " 'Rain': 4,\n",
       " 'Windy': 5,\n",
       " 'Smog': 6,\n",
       " 'Sandstorm': 7,\n",
       " 'Clearsky': 8,\n",
       " 'Thunderstorm': 9,\n",
       " 'Snow': 10,\n",
       " 'Rainy': 11}"
      ]
     },
     "execution_count": 174,
     "metadata": {},
     "output_type": "execute_result"
    }
   ],
   "source": [
    "#hmap = {key:cnt for cnt,key in enumerate(set(weather_mapping.values()))}\n",
    "#hmap"
   ]
  },
  {
   "cell_type": "code",
   "execution_count": 197,
   "metadata": {},
   "outputs": [],
   "source": [
    "pd_weather_vancouver = pd_weather[[\"datetime\",\"Portland\"]]"
   ]
  },
  {
   "cell_type": "code",
   "execution_count": 198,
   "metadata": {},
   "outputs": [
    {
     "name": "stderr",
     "output_type": "stream",
     "text": [
      "/opt/conda/lib/python3.6/site-packages/ipykernel_launcher.py:2: SettingWithCopyWarning: \n",
      "A value is trying to be set on a copy of a slice from a DataFrame.\n",
      "Try using .loc[row_indexer,col_indexer] = value instead\n",
      "\n",
      "See the caveats in the documentation: http://pandas.pydata.org/pandas-docs/stable/indexing.html#indexing-view-versus-copy\n",
      "  \n"
     ]
    }
   ],
   "source": [
    "#pd_weather_vancouver.head()\n",
    "pd_weather_vancouver[\"month_day\"] = pd_weather_vancouver[\"datetime\"].apply(lambda x: x[5:10])"
   ]
  },
  {
   "cell_type": "code",
   "execution_count": 199,
   "metadata": {},
   "outputs": [],
   "source": [
    "vv_prev = pd_weather_vancouver[\"Portland\"].values"
   ]
  },
  {
   "cell_type": "code",
   "execution_count": 200,
   "metadata": {},
   "outputs": [],
   "source": [
    "state_change = {}\n",
    "for curr,ncurr in zip(vv_prev,vv_prev[1:]):\n",
    "    state_change.setdefault(curr, {})\n",
    "    state_change[curr].setdefault(ncurr, 0)\n",
    "    state_change[curr][ncurr] += 1"
   ]
  },
  {
   "cell_type": "code",
   "execution_count": 201,
   "metadata": {},
   "outputs": [],
   "source": [
    "hmap = {key:cnt for cnt,key in enumerate(state_change.keys())}"
   ]
  },
  {
   "cell_type": "code",
   "execution_count": 202,
   "metadata": {},
   "outputs": [
    {
     "data": {
      "text/plain": [
       "{'Cloudy': 0,\n",
       " 'Clearsky': 1,\n",
       " 'Foggy': 2,\n",
       " 'Smog': 3,\n",
       " 'Rainy': 4,\n",
       " 'Snow': 5,\n",
       " 'Thunderstorm': 6}"
      ]
     },
     "execution_count": 202,
     "metadata": {},
     "output_type": "execute_result"
    }
   ],
   "source": [
    "hmap"
   ]
  },
  {
   "cell_type": "code",
   "execution_count": 203,
   "metadata": {},
   "outputs": [],
   "source": [
    "weather_type_info = {}\n",
    "for state in state_change:\n",
    "    weather_type_info.setdefault(state,[0]*len(hmap.keys()))\n",
    "    for transit_state,transit_value in state_change[state].items():\n",
    "        weather_type_info[state][hmap[transit_state]] = transit_value"
   ]
  },
  {
   "cell_type": "code",
   "execution_count": 204,
   "metadata": {},
   "outputs": [
    {
     "data": {
      "text/plain": [
       "{'Cloudy': [12989, 1367, 673, 44, 1425, 21, 11],\n",
       " 'Clearsky': [1368, 9904, 211, 23, 172, 5, 2],\n",
       " 'Foggy': [757, 174, 2789, 53, 838, 23, 1],\n",
       " 'Smog': [63, 24, 32, 530, 19, 0, 0],\n",
       " 'Rainy': [1336, 209, 897, 18, 8306, 6, 12],\n",
       " 'Snow': [12, 6, 31, 0, 6, 69, 0],\n",
       " 'Thunderstorm': [4, 2, 2, 0, 18, 0, 7]}"
      ]
     },
     "execution_count": 204,
     "metadata": {},
     "output_type": "execute_result"
    }
   ],
   "source": [
    "weather_type_info"
   ]
  },
  {
   "cell_type": "code",
   "execution_count": 205,
   "metadata": {},
   "outputs": [
    {
     "data": {
      "text/plain": [
       "dict_keys(['Cloudy', 'Clearsky', 'Foggy', 'Smog', 'Rainy', 'Snow', 'Thunderstorm'])"
      ]
     },
     "execution_count": 205,
     "metadata": {},
     "output_type": "execute_result"
    }
   ],
   "source": [
    "weather_type_info.keys()"
   ]
  },
  {
   "cell_type": "code",
   "execution_count": 206,
   "metadata": {},
   "outputs": [],
   "source": [
    "df = WeatherTransition(weather_type_info, index=weather_type_info.keys(), columns = hmap.keys())"
   ]
  },
  {
   "cell_type": "code",
   "execution_count": 207,
   "metadata": {},
   "outputs": [
    {
     "data": {
      "text/html": [
       "<div>\n",
       "<style scoped>\n",
       "    .dataframe tbody tr th:only-of-type {\n",
       "        vertical-align: middle;\n",
       "    }\n",
       "\n",
       "    .dataframe tbody tr th {\n",
       "        vertical-align: top;\n",
       "    }\n",
       "\n",
       "    .dataframe thead th {\n",
       "        text-align: right;\n",
       "    }\n",
       "</style>\n",
       "<table border=\"1\" class=\"dataframe\">\n",
       "  <thead>\n",
       "    <tr style=\"text-align: right;\">\n",
       "      <th></th>\n",
       "      <th>Cloudy</th>\n",
       "      <th>Clearsky</th>\n",
       "      <th>Foggy</th>\n",
       "      <th>Smog</th>\n",
       "      <th>Rainy</th>\n",
       "      <th>Snow</th>\n",
       "      <th>Thunderstorm</th>\n",
       "      <th>marginal_previous</th>\n",
       "    </tr>\n",
       "  </thead>\n",
       "  <tbody>\n",
       "    <tr>\n",
       "      <th>Cloudy</th>\n",
       "      <td>12989</td>\n",
       "      <td>1368</td>\n",
       "      <td>757</td>\n",
       "      <td>63</td>\n",
       "      <td>1336</td>\n",
       "      <td>12</td>\n",
       "      <td>4</td>\n",
       "      <td>16529</td>\n",
       "    </tr>\n",
       "    <tr>\n",
       "      <th>Clearsky</th>\n",
       "      <td>1367</td>\n",
       "      <td>9904</td>\n",
       "      <td>174</td>\n",
       "      <td>24</td>\n",
       "      <td>209</td>\n",
       "      <td>6</td>\n",
       "      <td>2</td>\n",
       "      <td>11686</td>\n",
       "    </tr>\n",
       "    <tr>\n",
       "      <th>Foggy</th>\n",
       "      <td>673</td>\n",
       "      <td>211</td>\n",
       "      <td>2789</td>\n",
       "      <td>32</td>\n",
       "      <td>897</td>\n",
       "      <td>31</td>\n",
       "      <td>2</td>\n",
       "      <td>4635</td>\n",
       "    </tr>\n",
       "    <tr>\n",
       "      <th>Smog</th>\n",
       "      <td>44</td>\n",
       "      <td>23</td>\n",
       "      <td>53</td>\n",
       "      <td>530</td>\n",
       "      <td>18</td>\n",
       "      <td>0</td>\n",
       "      <td>0</td>\n",
       "      <td>668</td>\n",
       "    </tr>\n",
       "    <tr>\n",
       "      <th>Rainy</th>\n",
       "      <td>1425</td>\n",
       "      <td>172</td>\n",
       "      <td>838</td>\n",
       "      <td>19</td>\n",
       "      <td>8306</td>\n",
       "      <td>6</td>\n",
       "      <td>18</td>\n",
       "      <td>10784</td>\n",
       "    </tr>\n",
       "    <tr>\n",
       "      <th>Snow</th>\n",
       "      <td>21</td>\n",
       "      <td>5</td>\n",
       "      <td>23</td>\n",
       "      <td>0</td>\n",
       "      <td>6</td>\n",
       "      <td>69</td>\n",
       "      <td>0</td>\n",
       "      <td>124</td>\n",
       "    </tr>\n",
       "    <tr>\n",
       "      <th>Thunderstorm</th>\n",
       "      <td>11</td>\n",
       "      <td>2</td>\n",
       "      <td>1</td>\n",
       "      <td>0</td>\n",
       "      <td>12</td>\n",
       "      <td>0</td>\n",
       "      <td>7</td>\n",
       "      <td>33</td>\n",
       "    </tr>\n",
       "    <tr>\n",
       "      <th>marginal_next</th>\n",
       "      <td>16530</td>\n",
       "      <td>11685</td>\n",
       "      <td>4635</td>\n",
       "      <td>668</td>\n",
       "      <td>10784</td>\n",
       "      <td>124</td>\n",
       "      <td>33</td>\n",
       "      <td>44459</td>\n",
       "    </tr>\n",
       "  </tbody>\n",
       "</table>\n",
       "</div>"
      ],
      "text/plain": [
       "               Cloudy  Clearsky  Foggy  Smog  Rainy  Snow  Thunderstorm  \\\n",
       "Cloudy          12989      1368    757    63   1336    12             4   \n",
       "Clearsky         1367      9904    174    24    209     6             2   \n",
       "Foggy             673       211   2789    32    897    31             2   \n",
       "Smog               44        23     53   530     18     0             0   \n",
       "Rainy            1425       172    838    19   8306     6            18   \n",
       "Snow               21         5     23     0      6    69             0   \n",
       "Thunderstorm       11         2      1     0     12     0             7   \n",
       "marginal_next   16530     11685   4635   668  10784   124            33   \n",
       "\n",
       "               marginal_previous  \n",
       "Cloudy                     16529  \n",
       "Clearsky                   11686  \n",
       "Foggy                       4635  \n",
       "Smog                         668  \n",
       "Rainy                      10784  \n",
       "Snow                         124  \n",
       "Thunderstorm                  33  \n",
       "marginal_next              44459  "
      ]
     },
     "execution_count": 207,
     "metadata": {},
     "output_type": "execute_result"
    }
   ],
   "source": [
    "#df = pd.DataFrame(weather_type_info, index=weather_type_info.keys(), columns = hmap.keys())\n",
    "\n",
    "df[\"marginal_previous\"] = df.sum(axis=1)\n",
    "\n",
    "df.head()\n",
    "\n",
    "tser = df.sum(axis=0)\n",
    "tser\n",
    "\n",
    "df.loc[\"marginal_next\"] = tser\n",
    "#state_change\n",
    "\n",
    "df\n",
    "\n",
    "#df = df / 44459"
   ]
  },
  {
   "cell_type": "code",
   "execution_count": 208,
   "metadata": {},
   "outputs": [],
   "source": [
    "largest_value = df[\"marginal_previous\"].max()\n",
    "df = df / largest_value"
   ]
  },
  {
   "cell_type": "code",
   "execution_count": 209,
   "metadata": {},
   "outputs": [],
   "source": [
    "for col_name in df.columns:\n",
    "    if col_name != \"marginal_previous\":\n",
    "        df[col_name] = df[col_name] / df[\"marginal_previous\"]\n"
   ]
  },
  {
   "cell_type": "code",
   "execution_count": 210,
   "metadata": {},
   "outputs": [
    {
     "data": {
      "text/html": [
       "<div>\n",
       "<style scoped>\n",
       "    .dataframe tbody tr th:only-of-type {\n",
       "        vertical-align: middle;\n",
       "    }\n",
       "\n",
       "    .dataframe tbody tr th {\n",
       "        vertical-align: top;\n",
       "    }\n",
       "\n",
       "    .dataframe thead th {\n",
       "        text-align: right;\n",
       "    }\n",
       "</style>\n",
       "<table border=\"1\" class=\"dataframe\">\n",
       "  <thead>\n",
       "    <tr style=\"text-align: right;\">\n",
       "      <th></th>\n",
       "      <th>Cloudy</th>\n",
       "      <th>Clearsky</th>\n",
       "      <th>Foggy</th>\n",
       "      <th>Smog</th>\n",
       "      <th>Rainy</th>\n",
       "      <th>Snow</th>\n",
       "      <th>Thunderstorm</th>\n",
       "      <th>marginal_previous</th>\n",
       "    </tr>\n",
       "  </thead>\n",
       "  <tbody>\n",
       "    <tr>\n",
       "      <th>Cloudy</th>\n",
       "      <td>0.785831</td>\n",
       "      <td>0.082764</td>\n",
       "      <td>0.045798</td>\n",
       "      <td>0.003811</td>\n",
       "      <td>0.080828</td>\n",
       "      <td>0.000726</td>\n",
       "      <td>0.000242</td>\n",
       "      <td>0.371781</td>\n",
       "    </tr>\n",
       "    <tr>\n",
       "      <th>Clearsky</th>\n",
       "      <td>0.116978</td>\n",
       "      <td>0.847510</td>\n",
       "      <td>0.014890</td>\n",
       "      <td>0.002054</td>\n",
       "      <td>0.017885</td>\n",
       "      <td>0.000513</td>\n",
       "      <td>0.000171</td>\n",
       "      <td>0.262849</td>\n",
       "    </tr>\n",
       "    <tr>\n",
       "      <th>Foggy</th>\n",
       "      <td>0.145200</td>\n",
       "      <td>0.045523</td>\n",
       "      <td>0.601726</td>\n",
       "      <td>0.006904</td>\n",
       "      <td>0.193528</td>\n",
       "      <td>0.006688</td>\n",
       "      <td>0.000431</td>\n",
       "      <td>0.104253</td>\n",
       "    </tr>\n",
       "    <tr>\n",
       "      <th>Smog</th>\n",
       "      <td>0.065868</td>\n",
       "      <td>0.034431</td>\n",
       "      <td>0.079341</td>\n",
       "      <td>0.793413</td>\n",
       "      <td>0.026946</td>\n",
       "      <td>0.000000</td>\n",
       "      <td>0.000000</td>\n",
       "      <td>0.015025</td>\n",
       "    </tr>\n",
       "    <tr>\n",
       "      <th>Rainy</th>\n",
       "      <td>0.132140</td>\n",
       "      <td>0.015950</td>\n",
       "      <td>0.077708</td>\n",
       "      <td>0.001762</td>\n",
       "      <td>0.770215</td>\n",
       "      <td>0.000556</td>\n",
       "      <td>0.001669</td>\n",
       "      <td>0.242561</td>\n",
       "    </tr>\n",
       "    <tr>\n",
       "      <th>Snow</th>\n",
       "      <td>0.169355</td>\n",
       "      <td>0.040323</td>\n",
       "      <td>0.185484</td>\n",
       "      <td>0.000000</td>\n",
       "      <td>0.048387</td>\n",
       "      <td>0.556452</td>\n",
       "      <td>0.000000</td>\n",
       "      <td>0.002789</td>\n",
       "    </tr>\n",
       "    <tr>\n",
       "      <th>Thunderstorm</th>\n",
       "      <td>0.333333</td>\n",
       "      <td>0.060606</td>\n",
       "      <td>0.030303</td>\n",
       "      <td>0.000000</td>\n",
       "      <td>0.363636</td>\n",
       "      <td>0.000000</td>\n",
       "      <td>0.212121</td>\n",
       "      <td>0.000742</td>\n",
       "    </tr>\n",
       "    <tr>\n",
       "      <th>marginal_next</th>\n",
       "      <td>0.371803</td>\n",
       "      <td>0.262826</td>\n",
       "      <td>0.104253</td>\n",
       "      <td>0.015025</td>\n",
       "      <td>0.242561</td>\n",
       "      <td>0.002789</td>\n",
       "      <td>0.000742</td>\n",
       "      <td>1.000000</td>\n",
       "    </tr>\n",
       "  </tbody>\n",
       "</table>\n",
       "</div>"
      ],
      "text/plain": [
       "                 Cloudy  Clearsky     Foggy      Smog     Rainy      Snow  \\\n",
       "Cloudy         0.785831  0.082764  0.045798  0.003811  0.080828  0.000726   \n",
       "Clearsky       0.116978  0.847510  0.014890  0.002054  0.017885  0.000513   \n",
       "Foggy          0.145200  0.045523  0.601726  0.006904  0.193528  0.006688   \n",
       "Smog           0.065868  0.034431  0.079341  0.793413  0.026946  0.000000   \n",
       "Rainy          0.132140  0.015950  0.077708  0.001762  0.770215  0.000556   \n",
       "Snow           0.169355  0.040323  0.185484  0.000000  0.048387  0.556452   \n",
       "Thunderstorm   0.333333  0.060606  0.030303  0.000000  0.363636  0.000000   \n",
       "marginal_next  0.371803  0.262826  0.104253  0.015025  0.242561  0.002789   \n",
       "\n",
       "               Thunderstorm  marginal_previous  \n",
       "Cloudy             0.000242           0.371781  \n",
       "Clearsky           0.000171           0.262849  \n",
       "Foggy              0.000431           0.104253  \n",
       "Smog               0.000000           0.015025  \n",
       "Rainy              0.001669           0.242561  \n",
       "Snow               0.000000           0.002789  \n",
       "Thunderstorm       0.212121           0.000742  \n",
       "marginal_next      0.000742           1.000000  "
      ]
     },
     "execution_count": 210,
     "metadata": {},
     "output_type": "execute_result"
    }
   ],
   "source": [
    "df"
   ]
  },
  {
   "cell_type": "code",
   "execution_count": 143,
   "metadata": {},
   "outputs": [
    {
     "data": {
      "text/plain": [
       "Foggy                0.022804\n",
       "Cloudy               0.105740\n",
       "Clearsky             0.822335\n",
       "Rainy                0.041000\n",
       "Snow                 0.004295\n",
       "Snowstorm            0.000078\n",
       "Smog                 0.003514\n",
       "Thunderstorm         0.000234\n",
       "marginal_previous    0.288018\n",
       "Name: Clearsky, dtype: float64"
      ]
     },
     "execution_count": 143,
     "metadata": {},
     "output_type": "execute_result"
    }
   ],
   "source": [
    "initial_weather_condition = 'Clearsky'\n",
    "df.loc['Clearsky']"
   ]
  },
  {
   "cell_type": "code",
   "execution_count": 144,
   "metadata": {},
   "outputs": [
    {
     "data": {
      "text/plain": [
       "['Clearsky']"
      ]
     },
     "execution_count": 144,
     "metadata": {},
     "output_type": "execute_result"
    }
   ],
   "source": [
    "random.choices(population=df.columns, weights=df.loc[initial_weather_condition].values, k=1)"
   ]
  },
  {
   "cell_type": "code",
   "execution_count": null,
   "metadata": {},
   "outputs": [],
   "source": []
  },
  {
   "cell_type": "code",
   "execution_count": 129,
   "metadata": {},
   "outputs": [
    {
     "data": {
      "text/html": [
       "<div>\n",
       "<style scoped>\n",
       "    .dataframe tbody tr th:only-of-type {\n",
       "        vertical-align: middle;\n",
       "    }\n",
       "\n",
       "    .dataframe tbody tr th {\n",
       "        vertical-align: top;\n",
       "    }\n",
       "\n",
       "    .dataframe thead th {\n",
       "        text-align: right;\n",
       "    }\n",
       "</style>\n",
       "<table border=\"1\" class=\"dataframe\">\n",
       "  <thead>\n",
       "    <tr style=\"text-align: right;\">\n",
       "      <th>Vancouver</th>\n",
       "      <th>Clearsky</th>\n",
       "      <th>Cloudy</th>\n",
       "      <th>Foggy</th>\n",
       "      <th>Rainy</th>\n",
       "      <th>Smog</th>\n",
       "      <th>Snow</th>\n",
       "      <th>Snowstorm</th>\n",
       "      <th>Thunderstorm</th>\n",
       "      <th>marginal_day</th>\n",
       "    </tr>\n",
       "    <tr>\n",
       "      <th>month_day</th>\n",
       "      <th></th>\n",
       "      <th></th>\n",
       "      <th></th>\n",
       "      <th></th>\n",
       "      <th></th>\n",
       "      <th></th>\n",
       "      <th></th>\n",
       "      <th></th>\n",
       "      <th></th>\n",
       "    </tr>\n",
       "  </thead>\n",
       "  <tbody>\n",
       "    <tr>\n",
       "      <th>01-01</th>\n",
       "      <td>0.466667</td>\n",
       "      <td>0.216667</td>\n",
       "      <td>0.100000</td>\n",
       "      <td>0.116667</td>\n",
       "      <td>0.0</td>\n",
       "      <td>0.100000</td>\n",
       "      <td>0.000000</td>\n",
       "      <td>0.0</td>\n",
       "      <td>0.002699</td>\n",
       "    </tr>\n",
       "    <tr>\n",
       "      <th>01-02</th>\n",
       "      <td>0.225000</td>\n",
       "      <td>0.233333</td>\n",
       "      <td>0.241667</td>\n",
       "      <td>0.183333</td>\n",
       "      <td>0.0</td>\n",
       "      <td>0.116667</td>\n",
       "      <td>0.000000</td>\n",
       "      <td>0.0</td>\n",
       "      <td>0.002699</td>\n",
       "    </tr>\n",
       "    <tr>\n",
       "      <th>01-03</th>\n",
       "      <td>0.283333</td>\n",
       "      <td>0.341667</td>\n",
       "      <td>0.158333</td>\n",
       "      <td>0.141667</td>\n",
       "      <td>0.0</td>\n",
       "      <td>0.075000</td>\n",
       "      <td>0.000000</td>\n",
       "      <td>0.0</td>\n",
       "      <td>0.002699</td>\n",
       "    </tr>\n",
       "    <tr>\n",
       "      <th>01-04</th>\n",
       "      <td>0.350000</td>\n",
       "      <td>0.266667</td>\n",
       "      <td>0.050000</td>\n",
       "      <td>0.250000</td>\n",
       "      <td>0.0</td>\n",
       "      <td>0.083333</td>\n",
       "      <td>0.000000</td>\n",
       "      <td>0.0</td>\n",
       "      <td>0.002699</td>\n",
       "    </tr>\n",
       "    <tr>\n",
       "      <th>01-05</th>\n",
       "      <td>0.250000</td>\n",
       "      <td>0.083333</td>\n",
       "      <td>0.166667</td>\n",
       "      <td>0.308333</td>\n",
       "      <td>0.0</td>\n",
       "      <td>0.175000</td>\n",
       "      <td>0.016667</td>\n",
       "      <td>0.0</td>\n",
       "      <td>0.002699</td>\n",
       "    </tr>\n",
       "  </tbody>\n",
       "</table>\n",
       "</div>"
      ],
      "text/plain": [
       "Vancouver  Clearsky    Cloudy     Foggy     Rainy  Smog      Snow  Snowstorm  \\\n",
       "month_day                                                                      \n",
       "01-01      0.466667  0.216667  0.100000  0.116667   0.0  0.100000   0.000000   \n",
       "01-02      0.225000  0.233333  0.241667  0.183333   0.0  0.116667   0.000000   \n",
       "01-03      0.283333  0.341667  0.158333  0.141667   0.0  0.075000   0.000000   \n",
       "01-04      0.350000  0.266667  0.050000  0.250000   0.0  0.083333   0.000000   \n",
       "01-05      0.250000  0.083333  0.166667  0.308333   0.0  0.175000   0.016667   \n",
       "\n",
       "Vancouver  Thunderstorm  marginal_day  \n",
       "month_day                              \n",
       "01-01               0.0      0.002699  \n",
       "01-02               0.0      0.002699  \n",
       "01-03               0.0      0.002699  \n",
       "01-04               0.0      0.002699  \n",
       "01-05               0.0      0.002699  "
      ]
     },
     "execution_count": 129,
     "metadata": {},
     "output_type": "execute_result"
    }
   ],
   "source": [
    "df1 = pd_weather_vancouver.pivot_table(index='month_day', columns='Vancouver', aggfunc='size', fill_value=0)\n",
    "\n",
    "df1[\"marginal_day\"] = df1.sum(axis=1)\n",
    "df1.loc[\"marginal_wtype\"] = df1.sum(axis=0)\n",
    "largest_value = df1[\"marginal_day\"].max()\n",
    "\n",
    "\n",
    "df1 = df1 / largest_value\n",
    "for col_name in df1.columns:\n",
    "    if col_name != \"marginal_day\":\n",
    "        df1[col_name] = df1[col_name] / df1[\"marginal_day\"]\n",
    "df1.head()\n",
    "#df[\"month\"] = df.index.apply(lambda x : x[5:7])"
   ]
  },
  {
   "cell_type": "code",
   "execution_count": 130,
   "metadata": {},
   "outputs": [
    {
     "data": {
      "text/plain": [
       "array([0.25      , 0.08333333, 0.16666667, 0.30833333, 0.        ,\n",
       "       0.175     , 0.01666667, 0.        , 0.00269906])"
      ]
     },
     "execution_count": 130,
     "metadata": {},
     "output_type": "execute_result"
    }
   ],
   "source": [
    "df1.loc[\"01-05\"].values"
   ]
  },
  {
   "cell_type": "code",
   "execution_count": 134,
   "metadata": {},
   "outputs": [
    {
     "data": {
      "text/plain": [
       "['Clearsky']"
      ]
     },
     "execution_count": 134,
     "metadata": {},
     "output_type": "execute_result"
    }
   ],
   "source": [
    "random.choices(population=df1.columns, weights=df1.loc[\"01-05\"].values, k=1)"
   ]
  },
  {
   "cell_type": "markdown",
   "metadata": {},
   "source": [
    "## City Attributes"
   ]
  },
  {
   "cell_type": "code",
   "execution_count": 77,
   "metadata": {},
   "outputs": [],
   "source": [
    "city_attributes = \"city_attributes.csv\"\n",
    "pd_city_attr = pd.read_csv(PATH+city_attributes)"
   ]
  },
  {
   "cell_type": "code",
   "execution_count": 78,
   "metadata": {},
   "outputs": [
    {
     "data": {
      "text/html": [
       "<div>\n",
       "<style scoped>\n",
       "    .dataframe tbody tr th:only-of-type {\n",
       "        vertical-align: middle;\n",
       "    }\n",
       "\n",
       "    .dataframe tbody tr th {\n",
       "        vertical-align: top;\n",
       "    }\n",
       "\n",
       "    .dataframe thead th {\n",
       "        text-align: right;\n",
       "    }\n",
       "</style>\n",
       "<table border=\"1\" class=\"dataframe\">\n",
       "  <thead>\n",
       "    <tr style=\"text-align: right;\">\n",
       "      <th></th>\n",
       "      <th>City</th>\n",
       "      <th>Country</th>\n",
       "      <th>Latitude</th>\n",
       "      <th>Longitude</th>\n",
       "    </tr>\n",
       "  </thead>\n",
       "  <tbody>\n",
       "    <tr>\n",
       "      <th>0</th>\n",
       "      <td>Vancouver</td>\n",
       "      <td>Canada</td>\n",
       "      <td>49.249660</td>\n",
       "      <td>-123.119339</td>\n",
       "    </tr>\n",
       "    <tr>\n",
       "      <th>1</th>\n",
       "      <td>Portland</td>\n",
       "      <td>United States</td>\n",
       "      <td>45.523449</td>\n",
       "      <td>-122.676208</td>\n",
       "    </tr>\n",
       "    <tr>\n",
       "      <th>2</th>\n",
       "      <td>San Francisco</td>\n",
       "      <td>United States</td>\n",
       "      <td>37.774929</td>\n",
       "      <td>-122.419418</td>\n",
       "    </tr>\n",
       "    <tr>\n",
       "      <th>3</th>\n",
       "      <td>Seattle</td>\n",
       "      <td>United States</td>\n",
       "      <td>47.606209</td>\n",
       "      <td>-122.332069</td>\n",
       "    </tr>\n",
       "    <tr>\n",
       "      <th>4</th>\n",
       "      <td>Los Angeles</td>\n",
       "      <td>United States</td>\n",
       "      <td>34.052231</td>\n",
       "      <td>-118.243683</td>\n",
       "    </tr>\n",
       "  </tbody>\n",
       "</table>\n",
       "</div>"
      ],
      "text/plain": [
       "            City        Country   Latitude   Longitude\n",
       "0      Vancouver         Canada  49.249660 -123.119339\n",
       "1       Portland  United States  45.523449 -122.676208\n",
       "2  San Francisco  United States  37.774929 -122.419418\n",
       "3        Seattle  United States  47.606209 -122.332069\n",
       "4    Los Angeles  United States  34.052231 -118.243683"
      ]
     },
     "execution_count": 78,
     "metadata": {},
     "output_type": "execute_result"
    }
   ],
   "source": [
    "pd_city_attr.head()"
   ]
  },
  {
   "cell_type": "code",
   "execution_count": 34,
   "metadata": {},
   "outputs": [],
   "source": [
    "pd_city_attr = pd_city_attr.set_index(\"City\")"
   ]
  },
  {
   "cell_type": "code",
   "execution_count": 38,
   "metadata": {},
   "outputs": [
    {
     "data": {
      "text/plain": [
       "Index(['Vancouver', 'Portland', 'San Francisco', 'Seattle', 'Los Angeles',\n",
       "       'San Diego', 'Las Vegas', 'Phoenix', 'Albuquerque', 'Denver',\n",
       "       'San Antonio', 'Dallas', 'Houston', 'Kansas City', 'Minneapolis',\n",
       "       'Saint Louis', 'Chicago', 'Nashville', 'Indianapolis', 'Atlanta',\n",
       "       'Detroit', 'Jacksonville', 'Charlotte', 'Miami', 'Pittsburgh',\n",
       "       'Toronto', 'Philadelphia', 'New York', 'Montreal', 'Boston',\n",
       "       'Beersheba', 'Tel Aviv District', 'Eilat', 'Haifa', 'Nahariyya',\n",
       "       'Jerusalem'],\n",
       "      dtype='object', name='City')"
      ]
     },
     "execution_count": 38,
     "metadata": {},
     "output_type": "execute_result"
    }
   ],
   "source": [
    "pd_city_attr.index"
   ]
  },
  {
   "cell_type": "code",
   "execution_count": 41,
   "metadata": {},
   "outputs": [
    {
     "data": {
      "text/plain": [
       "49.24966"
      ]
     },
     "execution_count": 41,
     "metadata": {},
     "output_type": "execute_result"
    }
   ],
   "source": [
    "pd_city_attr.loc['Vancouver']['Latitude']"
   ]
  },
  {
   "cell_type": "markdown",
   "metadata": {},
   "source": [
    "## Time Zone"
   ]
  },
  {
   "cell_type": "code",
   "execution_count": 42,
   "metadata": {},
   "outputs": [],
   "source": [
    "import datetime\n",
    "import pytz\n",
    "\n",
    "utc_now = pytz.utc.localize(datetime.datetime.utcnow())\n",
    "pst_now = utc_now.astimezone(pytz.timezone(\"America/Los_Angeles\"))"
   ]
  },
  {
   "cell_type": "code",
   "execution_count": 43,
   "metadata": {},
   "outputs": [
    {
     "data": {
      "text/plain": [
       "datetime.datetime(2019, 1, 20, 8, 12, 42, 290008, tzinfo=<UTC>)"
      ]
     },
     "execution_count": 43,
     "metadata": {},
     "output_type": "execute_result"
    }
   ],
   "source": [
    "utc_now"
   ]
  },
  {
   "cell_type": "code",
   "execution_count": 214,
   "metadata": {},
   "outputs": [
    {
     "data": {
      "text/plain": [
       "datetime.datetime(2019, 1, 20, 10, 12, 42, 290008, tzinfo=<DstTzInfo 'Asia/Jerusalem' IST+2:00:00 STD>)"
      ]
     },
     "execution_count": 214,
     "metadata": {},
     "output_type": "execute_result"
    }
   ],
   "source": [
    "pst_now"
   ]
  },
  {
   "cell_type": "code",
   "execution_count": 217,
   "metadata": {},
   "outputs": [
    {
     "data": {
      "text/plain": [
       "'01-20'"
      ]
     },
     "execution_count": 217,
     "metadata": {},
     "output_type": "execute_result"
    }
   ],
   "source": [
    "pst_now.strftime(\"%m-%d\")"
   ]
  },
  {
   "cell_type": "code",
   "execution_count": 145,
   "metadata": {},
   "outputs": [
    {
     "data": {
      "text/plain": [
       "'2019-01-20T10:12:42.290008+02:00'"
      ]
     },
     "execution_count": 145,
     "metadata": {},
     "output_type": "execute_result"
    }
   ],
   "source": [
    "pst_now.isoformat()"
   ]
  },
  {
   "cell_type": "code",
   "execution_count": 45,
   "metadata": {},
   "outputs": [
    {
     "data": {
      "text/plain": [
       "datetime.datetime(2019, 1, 20, 10, 12, 42, 290008, tzinfo=<DstTzInfo 'Asia/Jerusalem' IST+2:00:00 STD>)"
      ]
     },
     "execution_count": 45,
     "metadata": {},
     "output_type": "execute_result"
    }
   ],
   "source": [
    "z = \"Asia/Jerusalem\"\n",
    "pst_now = utc_now.astimezone(pytz.timezone(z))\n",
    "pst_now"
   ]
  },
  {
   "cell_type": "code",
   "execution_count": 61,
   "metadata": {},
   "outputs": [],
   "source": [
    "from tzwhere import tzwhere\n",
    "tz = tzwhere.tzwhere(forceTZ=True)"
   ]
  },
  {
   "cell_type": "code",
   "execution_count": 50,
   "metadata": {},
   "outputs": [
    {
     "data": {
      "text/plain": [
       "Country       Canada\n",
       "Latitude     49.2497\n",
       "Longitude   -123.119\n",
       "Name: Vancouver, dtype: object"
      ]
     },
     "execution_count": 50,
     "metadata": {},
     "output_type": "execute_result"
    }
   ],
   "source": [
    "pd_city_attr.loc['Vancouver']"
   ]
  },
  {
   "cell_type": "code",
   "execution_count": 62,
   "metadata": {},
   "outputs": [
    {
     "name": "stdout",
     "output_type": "stream",
     "text": [
      "America/Vancouver\n"
     ]
    }
   ],
   "source": [
    "print(tz.tzNameAt(pd_city_attr.loc['Vancouver']['Latitude'], pd_city_attr.loc['Vancouver']['Longitude']))"
   ]
  },
  {
   "cell_type": "code",
   "execution_count": 79,
   "metadata": {},
   "outputs": [],
   "source": [
    "def zones(latitude,longitude):\n",
    "    return tz.tzNameAt(latitude,longitude)\n",
    "\n",
    "pd_city_attr[\"Zone\"] = pd_city_attr.apply(lambda x : tz.tzNameAt(x[\"Latitude\"],x[\"Longitude\"],forceTZ=True), axis =1)"
   ]
  },
  {
   "cell_type": "code",
   "execution_count": 80,
   "metadata": {},
   "outputs": [
    {
     "data": {
      "text/html": [
       "<div>\n",
       "<style scoped>\n",
       "    .dataframe tbody tr th:only-of-type {\n",
       "        vertical-align: middle;\n",
       "    }\n",
       "\n",
       "    .dataframe tbody tr th {\n",
       "        vertical-align: top;\n",
       "    }\n",
       "\n",
       "    .dataframe thead th {\n",
       "        text-align: right;\n",
       "    }\n",
       "</style>\n",
       "<table border=\"1\" class=\"dataframe\">\n",
       "  <thead>\n",
       "    <tr style=\"text-align: right;\">\n",
       "      <th></th>\n",
       "      <th>City</th>\n",
       "      <th>Country</th>\n",
       "      <th>Latitude</th>\n",
       "      <th>Longitude</th>\n",
       "      <th>Zone</th>\n",
       "    </tr>\n",
       "  </thead>\n",
       "  <tbody>\n",
       "    <tr>\n",
       "      <th>0</th>\n",
       "      <td>Vancouver</td>\n",
       "      <td>Canada</td>\n",
       "      <td>49.249660</td>\n",
       "      <td>-123.119339</td>\n",
       "      <td>America/Vancouver</td>\n",
       "    </tr>\n",
       "    <tr>\n",
       "      <th>1</th>\n",
       "      <td>Portland</td>\n",
       "      <td>United States</td>\n",
       "      <td>45.523449</td>\n",
       "      <td>-122.676208</td>\n",
       "      <td>America/Los_Angeles</td>\n",
       "    </tr>\n",
       "    <tr>\n",
       "      <th>2</th>\n",
       "      <td>San Francisco</td>\n",
       "      <td>United States</td>\n",
       "      <td>37.774929</td>\n",
       "      <td>-122.419418</td>\n",
       "      <td>America/Los_Angeles</td>\n",
       "    </tr>\n",
       "    <tr>\n",
       "      <th>3</th>\n",
       "      <td>Seattle</td>\n",
       "      <td>United States</td>\n",
       "      <td>47.606209</td>\n",
       "      <td>-122.332069</td>\n",
       "      <td>America/Los_Angeles</td>\n",
       "    </tr>\n",
       "    <tr>\n",
       "      <th>4</th>\n",
       "      <td>Los Angeles</td>\n",
       "      <td>United States</td>\n",
       "      <td>34.052231</td>\n",
       "      <td>-118.243683</td>\n",
       "      <td>America/Los_Angeles</td>\n",
       "    </tr>\n",
       "  </tbody>\n",
       "</table>\n",
       "</div>"
      ],
      "text/plain": [
       "            City        Country   Latitude   Longitude                 Zone\n",
       "0      Vancouver         Canada  49.249660 -123.119339    America/Vancouver\n",
       "1       Portland  United States  45.523449 -122.676208  America/Los_Angeles\n",
       "2  San Francisco  United States  37.774929 -122.419418  America/Los_Angeles\n",
       "3        Seattle  United States  47.606209 -122.332069  America/Los_Angeles\n",
       "4    Los Angeles  United States  34.052231 -118.243683  America/Los_Angeles"
      ]
     },
     "execution_count": 80,
     "metadata": {},
     "output_type": "execute_result"
    }
   ],
   "source": [
    "pd_city_attr.head()"
   ]
  },
  {
   "cell_type": "code",
   "execution_count": 81,
   "metadata": {},
   "outputs": [
    {
     "data": {
      "text/plain": [
       "array(['America/Vancouver', 'America/Los_Angeles', 'America/Phoenix',\n",
       "       'America/Denver', 'America/Chicago',\n",
       "       'America/Indiana/Indianapolis', 'America/New_York',\n",
       "       'America/Detroit', 'America/Toronto', 'America/Montreal',\n",
       "       'Asia/Jerusalem'], dtype=object)"
      ]
     },
     "execution_count": 81,
     "metadata": {},
     "output_type": "execute_result"
    }
   ],
   "source": [
    "pd_city_attr[\"Zone\"].unique()"
   ]
  },
  {
   "cell_type": "code",
   "execution_count": 82,
   "metadata": {},
   "outputs": [],
   "source": [
    "city_attributes_zone = \"city_attributes_zone.csv\"\n",
    "pd_city_attr.to_csv(PATH+city_attributes_zone,encoding='utf-8', index=True)"
   ]
  },
  {
   "cell_type": "code",
   "execution_count": 83,
   "metadata": {},
   "outputs": [],
   "source": [
    "pd_city_attr = pd.read_csv(PATH+city_attributes_zone)"
   ]
  },
  {
   "cell_type": "code",
   "execution_count": 84,
   "metadata": {},
   "outputs": [
    {
     "data": {
      "text/html": [
       "<div>\n",
       "<style scoped>\n",
       "    .dataframe tbody tr th:only-of-type {\n",
       "        vertical-align: middle;\n",
       "    }\n",
       "\n",
       "    .dataframe tbody tr th {\n",
       "        vertical-align: top;\n",
       "    }\n",
       "\n",
       "    .dataframe thead th {\n",
       "        text-align: right;\n",
       "    }\n",
       "</style>\n",
       "<table border=\"1\" class=\"dataframe\">\n",
       "  <thead>\n",
       "    <tr style=\"text-align: right;\">\n",
       "      <th></th>\n",
       "      <th>Unnamed: 0</th>\n",
       "      <th>City</th>\n",
       "      <th>Country</th>\n",
       "      <th>Latitude</th>\n",
       "      <th>Longitude</th>\n",
       "      <th>Zone</th>\n",
       "    </tr>\n",
       "  </thead>\n",
       "  <tbody>\n",
       "    <tr>\n",
       "      <th>0</th>\n",
       "      <td>0</td>\n",
       "      <td>Vancouver</td>\n",
       "      <td>Canada</td>\n",
       "      <td>49.249660</td>\n",
       "      <td>-123.119339</td>\n",
       "      <td>America/Vancouver</td>\n",
       "    </tr>\n",
       "    <tr>\n",
       "      <th>1</th>\n",
       "      <td>1</td>\n",
       "      <td>Portland</td>\n",
       "      <td>United States</td>\n",
       "      <td>45.523449</td>\n",
       "      <td>-122.676208</td>\n",
       "      <td>America/Los_Angeles</td>\n",
       "    </tr>\n",
       "    <tr>\n",
       "      <th>2</th>\n",
       "      <td>2</td>\n",
       "      <td>San Francisco</td>\n",
       "      <td>United States</td>\n",
       "      <td>37.774929</td>\n",
       "      <td>-122.419418</td>\n",
       "      <td>America/Los_Angeles</td>\n",
       "    </tr>\n",
       "    <tr>\n",
       "      <th>3</th>\n",
       "      <td>3</td>\n",
       "      <td>Seattle</td>\n",
       "      <td>United States</td>\n",
       "      <td>47.606209</td>\n",
       "      <td>-122.332069</td>\n",
       "      <td>America/Los_Angeles</td>\n",
       "    </tr>\n",
       "    <tr>\n",
       "      <th>4</th>\n",
       "      <td>4</td>\n",
       "      <td>Los Angeles</td>\n",
       "      <td>United States</td>\n",
       "      <td>34.052231</td>\n",
       "      <td>-118.243683</td>\n",
       "      <td>America/Los_Angeles</td>\n",
       "    </tr>\n",
       "  </tbody>\n",
       "</table>\n",
       "</div>"
      ],
      "text/plain": [
       "   Unnamed: 0           City        Country   Latitude   Longitude  \\\n",
       "0           0      Vancouver         Canada  49.249660 -123.119339   \n",
       "1           1       Portland  United States  45.523449 -122.676208   \n",
       "2           2  San Francisco  United States  37.774929 -122.419418   \n",
       "3           3        Seattle  United States  47.606209 -122.332069   \n",
       "4           4    Los Angeles  United States  34.052231 -118.243683   \n",
       "\n",
       "                  Zone  \n",
       "0    America/Vancouver  \n",
       "1  America/Los_Angeles  \n",
       "2  America/Los_Angeles  \n",
       "3  America/Los_Angeles  \n",
       "4  America/Los_Angeles  "
      ]
     },
     "execution_count": 84,
     "metadata": {},
     "output_type": "execute_result"
    }
   ],
   "source": [
    "pd_city_attr.head()"
   ]
  },
  {
   "cell_type": "code",
   "execution_count": 164,
   "metadata": {},
   "outputs": [
    {
     "data": {
      "text/plain": [
       "array(['Vancouver', 'Portland', 'San Francisco', 'Seattle', 'Los Angeles',\n",
       "       'San Diego', 'Las Vegas', 'Phoenix', 'Albuquerque', 'Denver',\n",
       "       'San Antonio', 'Dallas', 'Houston', 'Kansas City', 'Minneapolis',\n",
       "       'Saint Louis', 'Chicago', 'Nashville', 'Indianapolis', 'Atlanta',\n",
       "       'Detroit', 'Jacksonville', 'Charlotte', 'Miami', 'Pittsburgh',\n",
       "       'Toronto', 'Philadelphia', 'New York', 'Montreal', 'Boston',\n",
       "       'Beersheba', 'Tel Aviv District', 'Eilat', 'Haifa', 'Nahariyya',\n",
       "       'Jerusalem'], dtype=object)"
      ]
     },
     "execution_count": 164,
     "metadata": {},
     "output_type": "execute_result"
    }
   ],
   "source": [
    "np.array(pd_city_attr[\"City\"])"
   ]
  },
  {
   "cell_type": "code",
   "execution_count": 150,
   "metadata": {},
   "outputs": [],
   "source": [
    "class B:\n",
    "    def __init__(self):\n",
    "        self.y = 1\n",
    "        \n",
    "    @property\n",
    "    def y(self):\n",
    "        return self.y"
   ]
  },
  {
   "cell_type": "code",
   "execution_count": 159,
   "metadata": {},
   "outputs": [],
   "source": [
    "class A:\n",
    "            \n",
    "    def __init__(self, x):\n",
    "        #b = B()\n",
    "        self.x = x\n",
    "    \n",
    "    def func(self):\n",
    "        self.x = 1\n",
    "        return self.x + b.y\n",
    "    \n",
    "    @property\n",
    "    def xt(self):\n",
    "        return self.x"
   ]
  },
  {
   "cell_type": "code",
   "execution_count": 160,
   "metadata": {},
   "outputs": [],
   "source": [
    "a = A(10)"
   ]
  },
  {
   "cell_type": "code",
   "execution_count": 161,
   "metadata": {},
   "outputs": [
    {
     "data": {
      "text/plain": [
       "10"
      ]
     },
     "execution_count": 161,
     "metadata": {},
     "output_type": "execute_result"
    }
   ],
   "source": [
    "a.xt"
   ]
  },
  {
   "cell_type": "code",
   "execution_count": null,
   "metadata": {},
   "outputs": [],
   "source": []
  }
 ],
 "metadata": {
  "kernelspec": {
   "display_name": "Python 3",
   "language": "python",
   "name": "python3"
  },
  "language_info": {
   "codemirror_mode": {
    "name": "ipython",
    "version": 3
   },
   "file_extension": ".py",
   "mimetype": "text/x-python",
   "name": "python",
   "nbconvert_exporter": "python",
   "pygments_lexer": "ipython3",
   "version": "3.6.5"
  }
 },
 "nbformat": 4,
 "nbformat_minor": 2
}

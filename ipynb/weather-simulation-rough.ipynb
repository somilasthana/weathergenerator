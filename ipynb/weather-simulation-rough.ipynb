{
 "cells": [
  {
   "cell_type": "markdown",
   "metadata": {},
   "source": [
    "## Possible Weather Types"
   ]
  },
  {
   "cell_type": "code",
   "execution_count": null,
   "metadata": {},
   "outputs": [],
   "source": [
    "\"\"\"\n",
    "Rainy\n",
    "Stormy\n",
    "Sunny\n",
    "Cloudy\n",
    "Windy\n",
    "Sand-storms\n",
    "Snow-storms\n",
    "Tornados\n",
    "Thunderstorm\n",
    "Foggy\n",
    "Snow\n",
    "Drought\n",
    "Smog\n",
    "\"\"\""
   ]
  },
  {
   "cell_type": "markdown",
   "metadata": {},
   "source": [
    "## Weather Seasons"
   ]
  },
  {
   "cell_type": "code",
   "execution_count": null,
   "metadata": {},
   "outputs": [],
   "source": [
    "\"\"\"\n",
    "Autumn : [Sunny, Cloudy, Windy ]\n",
    "Winter : [Rainy, Stormy, Sunny, Cloudy, Windy, Snow-storms, Foggy, Snow]\n",
    "Spring : [Rainy, Sunny, Cloudy, Windy]\n",
    "Summer : [Rainy, Stormy, Sunny, Cloudy, Windy, Sand-storms, Drought]\n",
    "Monsoon: [Rainy, Stormy, Cloudy, Windy, Foggy]\n",
    "\"\"\""
   ]
  },
  {
   "cell_type": "markdown",
   "metadata": {},
   "source": [
    "## Relationship between Temperature, Humidity, Pressure"
   ]
  },
  {
   "cell_type": "code",
   "execution_count": 6,
   "metadata": {},
   "outputs": [],
   "source": [
    "temp = c * pressure\n",
    "temp = c / humidity"
   ]
  },
  {
   "cell_type": "markdown",
   "metadata": {},
   "source": [
    "## Factors affecting weather"
   ]
  },
  {
   "cell_type": "code",
   "execution_count": null,
   "metadata": {},
   "outputs": [],
   "source": [
    "(atmosphere, topography(elevation), geography, oceanography, time, sunlight, green-house-effect)"
   ]
  },
  {
   "cell_type": "code",
   "execution_count": 24,
   "metadata": {},
   "outputs": [],
   "source": [
    "import random\n",
    "import numpy as np\n",
    "import pandas as pd"
   ]
  },
  {
   "cell_type": "code",
   "execution_count": 2,
   "metadata": {},
   "outputs": [
    {
     "data": {
      "text/plain": [
       "['a', 'b', 'b', 'v', 'a', 'a', 'b', 'a', 'v', 'v']"
      ]
     },
     "execution_count": 2,
     "metadata": {},
     "output_type": "execute_result"
    }
   ],
   "source": [
    "random.choices(population=['a','b','v'], weights=[0.2,0.3,0.5], k=10)"
   ]
  },
  {
   "cell_type": "code",
   "execution_count": 4,
   "metadata": {},
   "outputs": [
    {
     "data": {
      "text/plain": [
       "['a', 'v', 'b', 'v', 'b', 'v', 'v', 'v', 'v', 'b']"
      ]
     },
     "execution_count": 4,
     "metadata": {},
     "output_type": "execute_result"
    }
   ],
   "source": [
    "random.choices(population=['a','b','v'], weights=np.array([0.2,0.3,0.5]), k=10)"
   ]
  },
  {
   "cell_type": "code",
   "execution_count": 6,
   "metadata": {},
   "outputs": [
    {
     "data": {
      "text/plain": [
       "[['b'], ['b'], ['v'], ['b'], ['v'], ['v'], ['v'], ['v'], ['b'], ['v']]"
      ]
     },
     "execution_count": 6,
     "metadata": {},
     "output_type": "execute_result"
    }
   ],
   "source": [
    "[random.choices(population=['a','b','v'], weights=np.array([0.2,0.3,0.5]), k=1) for i in range(10)]"
   ]
  },
  {
   "cell_type": "code",
   "execution_count": 40,
   "metadata": {},
   "outputs": [],
   "source": [
    "sydney = pd.Series()"
   ]
  },
  {
   "cell_type": "code",
   "execution_count": 4,
   "metadata": {},
   "outputs": [],
   "source": [
    "sydney[\"Sunny\"] = 0.2\n",
    "sydney[\"Cloudy\"] = 0.3\n",
    "sydney[\"Windy\"] = 0.5\n",
    "\n",
    "[random.choices(population=sydney.index, weights=sydney.values, k=1) for i in range(10)]"
   ]
  },
  {
   "cell_type": "code",
   "execution_count": 13,
   "metadata": {},
   "outputs": [],
   "source": [
    "%matplotlib inline\n",
    "import numpy as np\n",
    "import matplotlib.pyplot as plt\n",
    "\n",
    "#from hmmlearn import hmm"
   ]
  },
  {
   "cell_type": "code",
   "execution_count": 14,
   "metadata": {},
   "outputs": [],
   "source": [
    "startprob = np.array([0.6, 0.3, 0.1, 0.0])"
   ]
  },
  {
   "cell_type": "code",
   "execution_count": 15,
   "metadata": {},
   "outputs": [],
   "source": [
    "transmat = np.array([[0.7, 0.2, 0.0, 0.1],\n",
    "                     [0.3, 0.5, 0.2, 0.0],\n",
    "                     [0.0, 0.3, 0.5, 0.2],\n",
    "                     [0.2, 0.0, 0.2, 0.6]])"
   ]
  },
  {
   "cell_type": "code",
   "execution_count": 21,
   "metadata": {},
   "outputs": [],
   "source": [
    "sydney = pd.Series()\n",
    "sydney[\"Sunny\"] = transmat[0]\n",
    "sydney[\"Cloudy\"] = transmat[1]\n",
    "sydney[\"Windy\"] = transmat[2]\n",
    "sydney[\"Rainy\"] = transmat[3]\n",
    "hmap = { name:cnt for cnt,name in enumerate(sydney.index)}"
   ]
  },
  {
   "cell_type": "code",
   "execution_count": 22,
   "metadata": {},
   "outputs": [
    {
     "data": {
      "text/plain": [
       "{'Sunny': 0, 'Cloudy': 1, 'Windy': 2, 'Rainy': 3}"
      ]
     },
     "execution_count": 22,
     "metadata": {},
     "output_type": "execute_result"
    }
   ],
   "source": [
    "hmap"
   ]
  },
  {
   "cell_type": "code",
   "execution_count": 27,
   "metadata": {},
   "outputs": [
    {
     "data": {
      "text/plain": [
       "['Rainy',\n",
       " 'Rainy',\n",
       " 'Rainy',\n",
       " 'Windy',\n",
       " 'Rainy',\n",
       " 'Rainy',\n",
       " 'Sunny',\n",
       " 'Sunny',\n",
       " 'Cloudy',\n",
       " 'Cloudy']"
      ]
     },
     "execution_count": 27,
     "metadata": {},
     "output_type": "execute_result"
    }
   ],
   "source": [
    "\n",
    "#[random.choices(population=sydney.index, weights=sydney.values[0], k=2) for i in range(10)]\n",
    "current_weather = \"Sunny\"\n",
    "\n",
    "weather_type = []\n",
    "for t in range(10):\n",
    "    index_val = hmap[current_weather]\n",
    "    #w = random.choices(population=sydney.index, weights=sydney.values[0], k=1)\n",
    "    w = random.choices(population=sydney.index, weights=sydney[current_weather], k=1)\n",
    "    weather_type.append(w[0])\n",
    "    current_weather = w[0]\n",
    "weather_type"
   ]
  },
  {
   "cell_type": "markdown",
   "metadata": {},
   "source": [
    "## Kaggle Weather Data"
   ]
  },
  {
   "cell_type": "code",
   "execution_count": 2,
   "metadata": {},
   "outputs": [],
   "source": [
    "import pandas as pd"
   ]
  },
  {
   "cell_type": "code",
   "execution_count": 3,
   "metadata": {},
   "outputs": [],
   "source": [
    "PATH = \"/home/jovyan/persist/modsimpy/data/\""
   ]
  },
  {
   "cell_type": "code",
   "execution_count": 4,
   "metadata": {},
   "outputs": [],
   "source": [
    "pd_temperature = pd.read_csv(PATH+\"temperature.csv\")"
   ]
  },
  {
   "cell_type": "code",
   "execution_count": 5,
   "metadata": {},
   "outputs": [
    {
     "data": {
      "text/plain": [
       "0    2012-10-01 12:00:00\n",
       "1    2012-10-01 13:00:00\n",
       "2    2012-10-01 14:00:00\n",
       "3    2012-10-01 15:00:00\n",
       "4    2012-10-01 16:00:00\n",
       "Name: datetime, dtype: object"
      ]
     },
     "execution_count": 5,
     "metadata": {},
     "output_type": "execute_result"
    }
   ],
   "source": [
    "pd_temperature[\"datetime\"].head()"
   ]
  },
  {
   "cell_type": "code",
   "execution_count": 6,
   "metadata": {},
   "outputs": [],
   "source": [
    "pd_temperature[\"datetime\"] = pd_temperature[\"datetime\"].apply(lambda x: x[5:10])"
   ]
  },
  {
   "cell_type": "code",
   "execution_count": 7,
   "metadata": {},
   "outputs": [],
   "source": [
    "vancouver_temp = pd_temperature.groupby([\"datetime\"])[\"Vancouver\"].apply(list)"
   ]
  },
  {
   "cell_type": "code",
   "execution_count": 8,
   "metadata": {},
   "outputs": [
    {
     "data": {
      "text/plain": [
       "datetime\n",
       "01-01    [275.04, 274.26, 274.14, 274.42, 273.6, 274.16...\n",
       "01-02    [275.14, 274.67, 274.27, 274.51, 273.98, 274.0...\n",
       "01-03    [273.81, 273.5, 273.39, 273.05, 273.21, 272.41...\n",
       "01-04    [275.94, 275.26, 274.16, 274.32, 273.8, 273.47...\n",
       "01-05    [275.31, 275.18, 275.01, 275.17, 275.15, 275.2...\n",
       "Name: Vancouver, dtype: object"
      ]
     },
     "execution_count": 8,
     "metadata": {},
     "output_type": "execute_result"
    }
   ],
   "source": [
    "#vancouver_temp = pd_temperature[\"Vancouver\"].dropna().astype(int)\n",
    "vancouver_temp.head()"
   ]
  },
  {
   "cell_type": "code",
   "execution_count": 11,
   "metadata": {},
   "outputs": [
    {
     "data": {
      "text/plain": [
       "Index(['01-01', '01-02', '01-03', '01-04', '01-05', '01-06', '01-07', '01-08',\n",
       "       '01-09', '01-10',\n",
       "       ...\n",
       "       '12-22', '12-23', '12-24', '12-25', '12-26', '12-27', '12-28', '12-29',\n",
       "       '12-30', '12-31'],\n",
       "      dtype='object', name='datetime', length=366)"
      ]
     },
     "execution_count": 11,
     "metadata": {},
     "output_type": "execute_result"
    }
   ],
   "source": [
    "vancouver_temp.index"
   ]
  },
  {
   "cell_type": "code",
   "execution_count": 25,
   "metadata": {},
   "outputs": [],
   "source": [
    "%matplotlib inline\n",
    "import matplotlib.pyplot as plt"
   ]
  },
  {
   "cell_type": "code",
   "execution_count": 26,
   "metadata": {},
   "outputs": [
    {
     "name": "stderr",
     "output_type": "stream",
     "text": [
      "/opt/conda/lib/python3.6/site-packages/matplotlib/axes/_axes.py:6571: UserWarning: The 'normed' kwarg is deprecated, and has been replaced by the 'density' kwarg.\n",
      "  warnings.warn(\"The 'normed' kwarg is deprecated, and has been \"\n"
     ]
    },
    {
     "data": {
      "image/png": "[encoded data removed]",
      "text/plain": [
       "<Figure size 432x288 with 1 Axes>"
      ]
     },
     "metadata": {
      "needs_background": "light"
     },
     "output_type": "display_data"
    }
   ],
   "source": [
    "hist = plt.hist(vancouver_temp[\"01-01\"], bins=30, normed=True)"
   ]
  },
  {
   "cell_type": "code",
   "execution_count": 27,
   "metadata": {},
   "outputs": [],
   "source": [
    "from sklearn.neighbors import KernelDensity"
   ]
  },
  {
   "cell_type": "code",
   "execution_count": 34,
   "metadata": {},
   "outputs": [
    {
     "data": {
      "text/plain": [
       "KernelDensity(algorithm='auto', atol=0, bandwidth=1.0, breadth_first=True,\n",
       "       kernel='gaussian', leaf_size=40, metric='euclidean',\n",
       "       metric_params=None, rtol=0)"
      ]
     },
     "execution_count": 34,
     "metadata": {},
     "output_type": "execute_result"
    }
   ],
   "source": [
    "kde = KernelDensity(bandwidth=1.0, kernel='gaussian')\n",
    "kde.fit(np.array(vancouver_temp[\"01-01\"])[:,None])"
   ]
  },
  {
   "cell_type": "code",
   "execution_count": 35,
   "metadata": {},
   "outputs": [],
   "source": [
    "v_01_01 = vancouver_temp[\"01-01\"]"
   ]
  },
  {
   "cell_type": "code",
   "execution_count": 41,
   "metadata": {},
   "outputs": [
    {
     "data": {
      "image/png": "[encoded data removed]",
      "text/plain": [
       "<Figure size 432x288 with 1 Axes>"
      ]
     },
     "metadata": {
      "needs_background": "light"
     },
     "output_type": "display_data"
    }
   ],
   "source": [
    "from scipy.stats import norm\n",
    "x_d = np.linspace(260, 290, 1000)\n",
    "density = sum(norm(xi).pdf(x_d) for xi in v_01_01)\n",
    "\n",
    "plt.fill_between(x_d, density, alpha=0.5)\n",
    "plt.plot(v_01_01, np.full_like(v_01_01, -0.1), '|k', markeredgewidth=1)\n",
    "\n",
    "plt.axis([250, 310, -0.2, 25]);"
   ]
  },
  {
   "cell_type": "code",
   "execution_count": 42,
   "metadata": {},
   "outputs": [
    {
     "data": {
      "text/plain": [
       "array([[272.44301798]])"
      ]
     },
     "execution_count": 42,
     "metadata": {},
     "output_type": "execute_result"
    }
   ],
   "source": [
    "kde.sample()"
   ]
  },
  {
   "cell_type": "code",
   "execution_count": 77,
   "metadata": {},
   "outputs": [],
   "source": [
    "from sklearn.model_selection import GridSearchCV\n",
    "from sklearn.model_selection import LeaveOneOut"
   ]
  },
  {
   "cell_type": "code",
   "execution_count": 79,
   "metadata": {},
   "outputs": [],
   "source": [
    "bandwidths = 10 ** np.linspace(-1,1,100)"
   ]
  },
  {
   "cell_type": "code",
   "execution_count": 82,
   "metadata": {},
   "outputs": [],
   "source": [
    "grid_cv = GridSearchCV(KernelDensity(kernel='gaussian'),\n",
    "                       {\"bandwidth\": bandwidths})\n",
    "                      "
   ]
  },
  {
   "cell_type": "code",
   "execution_count": null,
   "metadata": {},
   "outputs": [
    {
     "name": "stderr",
     "output_type": "stream",
     "text": [
      "/opt/conda/lib/python3.6/site-packages/sklearn/model_selection/_split.py:1943: FutureWarning: You should specify a value for 'cv' instead of relying on the default value. The default value will change from 3 to 5 in version 0.22.\n",
      "  warnings.warn(CV_WARNING, FutureWarning)\n"
     ]
    }
   ],
   "source": [
    "grid_cv.fit(vancouver_temp[:,None])"
   ]
  },
  {
   "cell_type": "markdown",
   "metadata": {},
   "source": [
    "## Temperature Pressure Dependencies"
   ]
  },
  {
   "cell_type": "code",
   "execution_count": 4,
   "metadata": {},
   "outputs": [],
   "source": [
    "import random\n",
    "import numpy as np\n",
    "import pandas as pd\n",
    "import matplotlib.pyplot as plt\n",
    "from sklearn.neighbors import KernelDensity\n",
    "from sklearn.model_selection import GridSearchCV\n",
    "from sklearn.model_selection import LeaveOneOut"
   ]
  },
  {
   "cell_type": "code",
   "execution_count": 5,
   "metadata": {},
   "outputs": [],
   "source": [
    "temperature_file_name = \"temperature.csv\"\n",
    "pressure_file_name = \"pressure.csv\"\n",
    "humidity_file_name = \"humidity.csv\"\n",
    "weather_type = \"weather_description.csv\""
   ]
  },
  {
   "cell_type": "code",
   "execution_count": 6,
   "metadata": {},
   "outputs": [],
   "source": [
    "PATH = \"/home/jovyan/persist/modsimpy/data/\"\n",
    "pd_temperature = pd.read_csv(PATH+temperature_file_name)\n",
    "pd_pressure = pd.read_csv(PATH+pressure_file_name)\n",
    "pd_humidity = pd.read_csv(PATH+humidity_file_name)"
   ]
  },
  {
   "cell_type": "code",
   "execution_count": 8,
   "metadata": {},
   "outputs": [],
   "source": [
    "def extract_city_temperature_diff(cityname):\n",
    "    \n",
    "    #pd_temperature = pd_temperature.dropna()\n",
    "\n",
    "    #pd_temperature.head()\n",
    "    pd_temperature_portland = pd_temperature[[\"datetime\", cityname]]\n",
    "\n",
    "    #pd_temperature_portland.head()\n",
    "\n",
    "    pd_temperature_portland_diff = pd_temperature_portland.set_index('datetime').diff()\n",
    "\n",
    "    #pd_temperature_portland_diff.head()\n",
    "    return pd_temperature_portland_diff\n",
    "\n",
    "def extract_city_temperature(cityname):\n",
    "    pd_temperature_port = pd_temperature[[\"datetime\",cityname]]\n",
    "    return pd_temperature_port\n",
    "\n",
    "def extract_city_pressure(cityname):\n",
    "    pd_pressure_port = pd_pressure[[\"datetime\",cityname]]\n",
    "    return pd_pressure_port\n",
    "\n",
    "def extract_city_humdity(cityname):\n",
    "    pd_humdity_port = pd_humidity[[\"datetime\",cityname]]\n",
    "    return pd_humdity_port\n",
    "\n",
    "pd_temperature_diff = extract_city_temperature_diff(\"Jerusalem\")\n",
    "pd_temperature_port = extract_city_temperature(\"Jerusalem\")\n",
    "pd_pressure_port = extract_city_pressure(\"Jerusalem\")\n",
    "pd_humdity_port = extract_city_humdity(\"Jerusalem\")"
   ]
  },
  {
   "cell_type": "code",
   "execution_count": 9,
   "metadata": {},
   "outputs": [
    {
     "data": {
      "text/html": [
       "<div>\n",
       "<style scoped>\n",
       "    .dataframe tbody tr th:only-of-type {\n",
       "        vertical-align: middle;\n",
       "    }\n",
       "\n",
       "    .dataframe tbody tr th {\n",
       "        vertical-align: top;\n",
       "    }\n",
       "\n",
       "    .dataframe thead th {\n",
       "        text-align: right;\n",
       "    }\n",
       "</style>\n",
       "<table border=\"1\" class=\"dataframe\">\n",
       "  <thead>\n",
       "    <tr style=\"text-align: right;\">\n",
       "      <th></th>\n",
       "      <th>Jerusalem</th>\n",
       "    </tr>\n",
       "    <tr>\n",
       "      <th>datetime</th>\n",
       "      <th></th>\n",
       "    </tr>\n",
       "  </thead>\n",
       "  <tbody>\n",
       "    <tr>\n",
       "      <th>2012-10-01 12:00:00</th>\n",
       "      <td>NaN</td>\n",
       "    </tr>\n",
       "    <tr>\n",
       "      <th>2012-10-01 13:00:00</th>\n",
       "      <td>NaN</td>\n",
       "    </tr>\n",
       "    <tr>\n",
       "      <th>2012-10-01 14:00:00</th>\n",
       "      <td>0.0</td>\n",
       "    </tr>\n",
       "    <tr>\n",
       "      <th>2012-10-01 15:00:00</th>\n",
       "      <td>0.0</td>\n",
       "    </tr>\n",
       "    <tr>\n",
       "      <th>2012-10-01 16:00:00</th>\n",
       "      <td>0.0</td>\n",
       "    </tr>\n",
       "  </tbody>\n",
       "</table>\n",
       "</div>"
      ],
      "text/plain": [
       "                     Jerusalem\n",
       "datetime                      \n",
       "2012-10-01 12:00:00        NaN\n",
       "2012-10-01 13:00:00        NaN\n",
       "2012-10-01 14:00:00        0.0\n",
       "2012-10-01 15:00:00        0.0\n",
       "2012-10-01 16:00:00        0.0"
      ]
     },
     "execution_count": 9,
     "metadata": {},
     "output_type": "execute_result"
    }
   ],
   "source": [
    "pd_temperature_diff.head()\n",
    "#pd_pressure = pd_pressure.dropna()\n",
    "\n",
    "\n",
    "#pd_pressure[\"Portland\"]\n",
    "\n",
    "#pd_pressure_port.head()"
   ]
  },
  {
   "cell_type": "code",
   "execution_count": 10,
   "metadata": {},
   "outputs": [],
   "source": [
    "def merge_temperature_df(pd_temperature_portland_diff,pd_pressure_port):\n",
    "    pd_temperature_change_pressure_relation = pd.merge(pd_temperature_portland_diff, pd_pressure_port , on =\"datetime\")\n",
    "\n",
    "    pd_temperature_change_pressure_relation = pd_temperature_change_pressure_relation.dropna()\n",
    "    #pd_temperature_change_pressure_relation.head()\n",
    "    return pd_temperature_change_pressure_relation\n",
    "\n",
    "pd_temperature_change_temperature = merge_temperature_df(pd_temperature_diff,pd_temperature_port)\n",
    "pd_temperature_change_pressure_relation = merge_temperature_df(pd_temperature_diff,pd_pressure_port)\n",
    "pd_temperature_change_humdity = merge_temperature_df(pd_temperature_diff,pd_humdity_port)"
   ]
  },
  {
   "cell_type": "code",
   "execution_count": 11,
   "metadata": {},
   "outputs": [
    {
     "data": {
      "text/html": [
       "<div>\n",
       "<style scoped>\n",
       "    .dataframe tbody tr th:only-of-type {\n",
       "        vertical-align: middle;\n",
       "    }\n",
       "\n",
       "    .dataframe tbody tr th {\n",
       "        vertical-align: top;\n",
       "    }\n",
       "\n",
       "    .dataframe thead th {\n",
       "        text-align: right;\n",
       "    }\n",
       "</style>\n",
       "<table border=\"1\" class=\"dataframe\">\n",
       "  <thead>\n",
       "    <tr style=\"text-align: right;\">\n",
       "      <th></th>\n",
       "      <th>datetime</th>\n",
       "      <th>Jerusalem_x</th>\n",
       "      <th>Jerusalem_y</th>\n",
       "    </tr>\n",
       "  </thead>\n",
       "  <tbody>\n",
       "    <tr>\n",
       "      <th>2</th>\n",
       "      <td>2012-10-01 14:00:00</td>\n",
       "      <td>0.0</td>\n",
       "      <td>303.5</td>\n",
       "    </tr>\n",
       "    <tr>\n",
       "      <th>3</th>\n",
       "      <td>2012-10-01 15:00:00</td>\n",
       "      <td>0.0</td>\n",
       "      <td>303.5</td>\n",
       "    </tr>\n",
       "    <tr>\n",
       "      <th>4</th>\n",
       "      <td>2012-10-01 16:00:00</td>\n",
       "      <td>0.0</td>\n",
       "      <td>303.5</td>\n",
       "    </tr>\n",
       "    <tr>\n",
       "      <th>5</th>\n",
       "      <td>2012-10-01 17:00:00</td>\n",
       "      <td>0.0</td>\n",
       "      <td>303.5</td>\n",
       "    </tr>\n",
       "    <tr>\n",
       "      <th>6</th>\n",
       "      <td>2012-10-01 18:00:00</td>\n",
       "      <td>0.0</td>\n",
       "      <td>303.5</td>\n",
       "    </tr>\n",
       "  </tbody>\n",
       "</table>\n",
       "</div>"
      ],
      "text/plain": [
       "              datetime  Jerusalem_x  Jerusalem_y\n",
       "2  2012-10-01 14:00:00          0.0        303.5\n",
       "3  2012-10-01 15:00:00          0.0        303.5\n",
       "4  2012-10-01 16:00:00          0.0        303.5\n",
       "5  2012-10-01 17:00:00          0.0        303.5\n",
       "6  2012-10-01 18:00:00          0.0        303.5"
      ]
     },
     "execution_count": 11,
     "metadata": {},
     "output_type": "execute_result"
    }
   ],
   "source": [
    "pd_temperature_change_temperature.head()"
   ]
  },
  {
   "cell_type": "code",
   "execution_count": 13,
   "metadata": {},
   "outputs": [],
   "source": [
    "%matplotlib inline\n",
    "import numpy as np\n",
    "import matplotlib.pyplot as plt\n",
    "\n"
   ]
  },
  {
   "cell_type": "code",
   "execution_count": 14,
   "metadata": {},
   "outputs": [
    {
     "data": {
      "text/plain": [
       "<matplotlib.collections.PathCollection at 0x7f1a7a0a2f60>"
      ]
     },
     "execution_count": 14,
     "metadata": {},
     "output_type": "execute_result"
    },
    {
     "data": {
      "image/png": "[encoded data removed]",
      "text/plain": [
       "<Figure size 432x288 with 1 Axes>"
      ]
     },
     "metadata": {
      "needs_background": "light"
     },
     "output_type": "display_data"
    }
   ],
   "source": [
    "#x = pd_temperature_change_pressure_relation[\"Jerusalem_y\"]\n",
    "#y = pd_temperature_change_pressure_relation[\"Jerusalem_x\"]\n",
    "\n",
    "#x = pd_temperature_change_humdity[\"Jerusalem_y\"]\n",
    "#y = pd_temperature_change_humdity[\"Jerusalem_x\"]\n",
    "\n",
    "x = pd_temperature_change_temperature[\"Jerusalem_y\"]\n",
    "y = pd_temperature_change_temperature[\"Jerusalem_x\"]\n",
    "\n",
    "plt.scatter(x,y)"
   ]
  },
  {
   "cell_type": "markdown",
   "metadata": {},
   "source": [
    "## Temperature Humidity Dependencies"
   ]
  },
  {
   "cell_type": "code",
   "execution_count": 15,
   "metadata": {},
   "outputs": [
    {
     "data": {
      "text/plain": [
       "0.009872313586589798"
      ]
     },
     "execution_count": 15,
     "metadata": {},
     "output_type": "execute_result"
    }
   ],
   "source": [
    "import numpy as np\n",
    "from sklearn.linear_model import LinearRegression\n",
    "X = x[:,None]\n",
    "# y = 1 * x_0 + 2 * x_1 + 3\n",
    "\n",
    "reg = LinearRegression().fit(X, y)\n",
    "reg.score(X, y)\n",
    "\n",
    "#reg.coef_\n",
    "\n",
    "#reg.intercept_ "
   ]
  },
  {
   "cell_type": "code",
   "execution_count": 18,
   "metadata": {},
   "outputs": [
    {
     "data": {
      "text/plain": [
       "(array([0.01976818]), -5.79592365174457)"
      ]
     },
     "execution_count": 18,
     "metadata": {},
     "output_type": "execute_result"
    }
   ],
   "source": [
    "reg.coef_,reg.intercept_ "
   ]
  },
  {
   "cell_type": "code",
   "execution_count": 19,
   "metadata": {},
   "outputs": [
    {
     "data": {
      "text/plain": [
       "(0.01976817604010132, -5.79592365174457)"
      ]
     },
     "execution_count": 19,
     "metadata": {},
     "output_type": "execute_result"
    }
   ],
   "source": [
    "reg.coef_[0],reg.intercept_"
   ]
  },
  {
   "cell_type": "code",
   "execution_count": 21,
   "metadata": {},
   "outputs": [
    {
     "data": {
      "text/plain": [
       "303.7037177764262"
      ]
     },
     "execution_count": 21,
     "metadata": {},
     "output_type": "execute_result"
    }
   ],
   "source": [
    "303.5*reg.coef_[0] + reg.intercept_ + 303.5"
   ]
  },
  {
   "cell_type": "code",
   "execution_count": 22,
   "metadata": {},
   "outputs": [],
   "source": [
    "weather_mapping = {\n",
    "\n",
    "    'mist': 'Foggy',\n",
    "    'broken clouds': 'Cloudy',\n",
    "    'sky is clear': 'Clearsky',\n",
    "    'light rain': 'Rainy',\n",
    "    'few clouds': 'Cloudy',\n",
    "    'fog': 'Foggy',\n",
    "    'overcast clouds': 'Cloudy',\n",
    "    'light intensity shower rain': 'Rainy',\n",
    "    'moderate rain': 'Rainy',\n",
    "    'light intensity drizzle': 'Rainy',\n",
    "    'scattered clouds': 'Cloudy',\n",
    "    'proximity shower rain': 'Rainy',\n",
    "    'heavy intensity rain': 'Rainy',\n",
    "    'heavy snow': 'Snow',\n",
    "    'shower rain': 'Rainy',\n",
    "    'snow': 'Snow',\n",
    "    'heavy shower snow': 'Snowstorm',\n",
    "    'light intensity drizzle rain': 'Rainy',\n",
    "    'light snow': 'Snow',\n",
    "    'very heavy rain': 'Rainy',\n",
    "    'smoke': 'Smog',\n",
    "    'thunderstorm with heavy rain': 'Thunderstorm',\n",
    "    'light shower snow': 'Snow',\n",
    "    'thunderstorm': 'Thunderstorm',\n",
    "    'thunderstorm with light rain': 'Thunderstorm',\n",
    "    'haze': 'Smog',\n",
    "    'dust': 'Smog',\n",
    "    'volcanic ash': 'Smog',\n",
    "    'heavy intensity shower rain': 'Rainy',\n",
    "    'thunderstorm with rain': 'Thunderstorm',\n",
    "    'sleet': 'Snow',\n",
    "    'light rain and snow': 'Snow',\n",
    "    'drizzle': 'Rainy',\n",
    "    'shower snow': 'Snowstorm',\n",
    "    'light shower sleet': 'Snow',\n",
    "    'proximity thunderstorm': 'Thunderstorm',\n",
    "    'ragged thunderstorm': 'Thunderstorm',\n",
    "    'freezing rain': 'Snow',\n",
    "    'heavy intensity drizzle': 'Rainy',\n",
    "    'proximity thunderstorm with rain': 'Thunderstorm',\n",
    "    'proximity thunderstorm with drizzle': 'Thunderstorm',\n",
    "    'thunderstorm with drizzle': 'Thunderstorm',\n",
    "    'thunderstorm with light drizzle': 'Thunderstorm',\n",
    "    'thunderstorm with heavy drizzle': 'Thunderstorm',\n",
    "    'heavy thunderstorm': 'Thunderstorm',\n",
    "    'squalls': 'Windy',\n",
    "    'proximity sand/dust whirls': 'Sandstorm',\n",
    "    'proximity moderate rain': 'Rainy',\n",
    "    'sand': 'Sandstorm',\n",
    "    'sand/dust whirls': 'Sandstorm',\n",
    "    'tornado': 'Tornado',\n",
    "    'shower drizzle': 'Rainy',\n",
    "    'rain and snow': 'Snow',\n",
    "    'ragged shower rain': 'Rain'\n",
    "}"
   ]
  },
  {
   "cell_type": "code",
   "execution_count": 25,
   "metadata": {},
   "outputs": [
    {
     "data": {
      "text/plain": [
       "array(['Tornado', 'Rainy', 'Sandstorm', 'Snow', 'Foggy', 'Cloudy',\n",
       "       'Windy', 'Rain', 'Snowstorm', 'Clearsky', 'Smog', 'Thunderstorm'],\n",
       "      dtype='<U12')"
      ]
     },
     "execution_count": 25,
     "metadata": {},
     "output_type": "execute_result"
    }
   ],
   "source": [
    "np.array(list(set(weather_mapping.values())))"
   ]
  },
  {
   "cell_type": "code",
   "execution_count": null,
   "metadata": {},
   "outputs": [],
   "source": []
  }
 ],
 "metadata": {
  "kernelspec": {
   "display_name": "Python 3",
   "language": "python",
   "name": "python3"
  },
  "language_info": {
   "codemirror_mode": {
    "name": "ipython",
    "version": 3
   },
   "file_extension": ".py",
   "mimetype": "text/x-python",
   "name": "python",
   "nbconvert_exporter": "python",
   "pygments_lexer": "ipython3",
   "version": "3.6.6"
  }
 },
 "nbformat": 4,
 "nbformat_minor": 2
}
